{
 "cells": [
  {
   "cell_type": "markdown",
   "id": "cc6aac1f",
   "metadata": {},
   "source": [
    "Data science is the use of scientific methods, processes, algorithms, systems to dicover hidden patterns in data \n",
    "\n",
    "It uses mathematics, computer science, domain knowledge, statistics and information science "
   ]
  },
  {
   "cell_type": "markdown",
   "id": "5a840b4a",
   "metadata": {},
   "source": [
    "Advantages of data science \n",
    "    \n",
    "    Handles big data\n",
    "    Makes data better\n",
    "    It is versatile\n",
    "    Automates tasks"
   ]
  },
  {
   "cell_type": "markdown",
   "id": "22416793",
   "metadata": {},
   "source": [
    "LEARNING PATH"
   ]
  },
  {
   "cell_type": "markdown",
   "id": "b939c7dd",
   "metadata": {},
   "source": [
    "    Intro to data science\n",
    "    Python libraries for data science\n",
    "    Data wrangling- data extraction, missing values treatment\n",
    "    Feature engineering- Scaling, binning, data imputation,grouping\n",
    "    Exploratory data analysis- Using plots such as: box plot,bar chart,column chart,line chart,scatter chart, kde plot\n",
    "    Feature selection- Dimensionality reduction, factor analysis, PCA, eigen values, eigen vectors and LDA \n"
   ]
  },
  {
   "cell_type": "markdown",
   "id": "2a75b132",
   "metadata": {},
   "source": [
    "# STAGES OF DATA SCIENCE "
   ]
  },
  {
   "cell_type": "markdown",
   "id": "78ccaf74",
   "metadata": {},
   "source": [
    "    From Business understanding to analytic approach\n",
    "    From requirements to collection \n",
    "    From understanding to preparation \n",
    "    From modelling to evaluation \n",
    "    From deployment to feedback"
   ]
  },
  {
   "cell_type": "markdown",
   "id": "ed2990f3",
   "metadata": {},
   "source": [
    "## STAGE 1: From Business understanding to analytic approach\n"
   ]
  },
  {
   "cell_type": "markdown",
   "id": "fb708978",
   "metadata": {},
   "source": [
    "In the business understanding one understands the business sponsors, steering commitee and internal sponsors.It also aids in identifying who needs the analytical solution,customer needs,business needs,customer needs,benefits.\n",
    "It requires defining the problem,project objectives and solution requirements\n",
    "Analytic approach determines the analytical methods and data requirements."
   ]
  },
  {
   "cell_type": "markdown",
   "id": "1a3a6cde",
   "metadata": {},
   "source": [
    "## STAGE 2: From requirements to collection \n"
   ]
  },
  {
   "cell_type": "markdown",
   "id": "cc0c00b2",
   "metadata": {},
   "source": [
    "This stage contains multiple sub stages such as data acquisition,data wrangling,data analysis, data modelling\n",
    "In this there can be multiple types of data:\n",
    "\n",
    "        structured\n",
    "        semi-structured\n",
    "        unsructured"
   ]
  },
  {
   "cell_type": "markdown",
   "id": "ebe369ab",
   "metadata": {},
   "source": [
    "## STAGE 3:From understanding to preparation \n"
   ]
  },
  {
   "cell_type": "markdown",
   "id": "d9000bbd",
   "metadata": {},
   "source": [
    "Data understanding Involves the use of descriptive statistics and visualization to \n",
    "   \n",
    "    understand the content\n",
    "    discover initial insights\n",
    "    assess data quality\n",
    "\n",
    "Data preparation involves the activites to construct a dataset to be used for modelling in methods such as:\n",
    "\n",
    "     removing invalid values \n",
    "     eliminating duplicates\n",
    "     formatting data from multiple sources\n",
    "     transforming data into more useful variables\n",
    "     \n",
    "Data preparation takes most time"
   ]
  },
  {
   "cell_type": "markdown",
   "id": "93fb942e",
   "metadata": {},
   "source": [
    "In this there is creation of explanatory variables called predictors through  combination of domain knowledge and existing structured variables"
   ]
  },
  {
   "cell_type": "markdown",
   "id": "f9d3b1a9",
   "metadata": {},
   "source": [
    "## STAGE 4:From modelling to evaluation \n"
   ]
  },
  {
   "cell_type": "markdown",
   "id": "759e583d",
   "metadata": {},
   "source": [
    "Modelling focuses on predictive and descriptive model development\n",
    "Data scientists use historical data and by applying predictive models on data outcome is depicted\n",
    "It is iterative \n",
    "It involves trying multiple algorithms with multple parameters  on the data to achieve best model for dataset"
   ]
  },
  {
   "cell_type": "markdown",
   "id": "06e6a2e5",
   "metadata": {},
   "source": [
    "After modelling the model is evaluatedto assess its quality. Diagnostic measures are computed and outputs are evaluated. Data mining result is evaluated against the knowledge base \n",
    "After evaluation:\n",
    "    \n",
    "    review the whole evaluation process\n",
    "    highlight activities that are missed\n",
    "    ensure that the model is correctly built\n",
    "    identify failures\n",
    "    determine the plan of action based on findngs\n",
    "    analyze nad estimate areas of improvement"
   ]
  },
  {
   "cell_type": "markdown",
   "id": "ba5df571",
   "metadata": {},
   "source": [
    "## STEP 5:From deployment to feedback"
   ]
  },
  {
   "cell_type": "markdown",
   "id": "25ad73ab",
   "metadata": {},
   "source": [
    "Involves deploying a satisfactory model into production environment\n",
    "Deployment may be in form of:\n",
    "\n",
    "        generating a report with recommendations \n",
    "        integrating model with complex workflow"
   ]
  },
  {
   "cell_type": "markdown",
   "id": "5bb4ee56",
   "metadata": {},
   "source": [
    "After model deployment there is maintenance because there could be change in the environment, change in business objectives over time"
   ]
  },
  {
   "cell_type": "markdown",
   "id": "681264ec",
   "metadata": {},
   "source": [
    "One has to identify which kind of report is necessary by identifying target groups\n",
    "and which initial data mining goals have been met\n",
    "One has to review the whole framework by interviewing end users, employees identifying what could have been done better"
   ]
  },
  {
   "cell_type": "markdown",
   "id": "d10d8b92",
   "metadata": {},
   "source": [
    "## IMPORT LIBRARY IN PYTHON"
   ]
  },
  {
   "cell_type": "markdown",
   "id": "edc2d8a0",
   "metadata": {},
   "source": [
    "In python, a file containing Python statements and definitions is referred to as a module"
   ]
  },
  {
   "cell_type": "markdown",
   "id": "2b1d7a47",
   "metadata": {},
   "source": [
    "To import a module use the import keyword with the module name"
   ]
  },
  {
   "cell_type": "code",
   "execution_count": 12,
   "id": "987c6c4a",
   "metadata": {},
   "outputs": [],
   "source": [
    "import math"
   ]
  },
  {
   "cell_type": "code",
   "execution_count": 13,
   "id": "33269196",
   "metadata": {},
   "outputs": [
    {
     "data": {
      "text/plain": [
       "2.0"
      ]
     },
     "execution_count": 13,
     "metadata": {},
     "output_type": "execute_result"
    }
   ],
   "source": [
    "math.sqrt(4)"
   ]
  },
  {
   "cell_type": "markdown",
   "id": "ced0ef7e",
   "metadata": {},
   "source": [
    "## IMPORT METHOD IN PYTHON"
   ]
  },
  {
   "cell_type": "markdown",
   "id": "f2e8001a",
   "metadata": {},
   "source": [
    "To import a specific method in math module use the\n",
    "\"from math import\" command"
   ]
  },
  {
   "cell_type": "code",
   "execution_count": 14,
   "id": "1cb26683",
   "metadata": {},
   "outputs": [],
   "source": [
    "from math import sqrt"
   ]
  },
  {
   "cell_type": "code",
   "execution_count": 15,
   "id": "1417ef16",
   "metadata": {},
   "outputs": [
    {
     "data": {
      "text/plain": [
       "2.0"
      ]
     },
     "execution_count": 15,
     "metadata": {},
     "output_type": "execute_result"
    }
   ],
   "source": [
    "sqrt(4)"
   ]
  },
  {
   "cell_type": "code",
   "execution_count": null,
   "id": "0f52f8e8",
   "metadata": {},
   "outputs": [],
   "source": []
  }
 ],
 "metadata": {
  "kernelspec": {
   "display_name": "Python 3",
   "language": "python",
   "name": "python3"
  },
  "language_info": {
   "codemirror_mode": {
    "name": "ipython",
    "version": 3
   },
   "file_extension": ".py",
   "mimetype": "text/x-python",
   "name": "python",
   "nbconvert_exporter": "python",
   "pygments_lexer": "ipython3",
   "version": "3.8.8"
  }
 },
 "nbformat": 4,
 "nbformat_minor": 5
}
