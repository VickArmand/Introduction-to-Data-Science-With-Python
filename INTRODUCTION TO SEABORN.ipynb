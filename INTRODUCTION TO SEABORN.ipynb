{
 "cells": [
  {
   "cell_type": "markdown",
   "id": "714eff88",
   "metadata": {},
   "source": [
    "# Seaborn"
   ]
  },
  {
   "cell_type": "markdown",
   "id": "a59a7e2b",
   "metadata": {},
   "source": [
    "It is a python data visualisation library based on matpotlib which provides a high level interface for drawing attractive statstical graphics"
   ]
  },
  {
   "cell_type": "markdown",
   "id": "788ceb2e",
   "metadata": {},
   "source": [
    "### ADVANTAGES OF SEABORN"
   ]
  },
  {
   "cell_type": "markdown",
   "id": "fe79f995",
   "metadata": {},
   "source": [
    "Possesses built in themes for better visualizations \n",
    "\n",
    "Has tools and built in statistical functions which reveal hidden patterns in dataset\n",
    "\n",
    "Has functions that visualize matrices of data"
   ]
  },
  {
   "cell_type": "code",
   "execution_count": null,
   "id": "f2547fea",
   "metadata": {},
   "outputs": [],
   "source": []
  }
 ],
 "metadata": {
  "kernelspec": {
   "display_name": "Python 3",
   "language": "python",
   "name": "python3"
  },
  "language_info": {
   "codemirror_mode": {
    "name": "ipython",
    "version": 3
   },
   "file_extension": ".py",
   "mimetype": "text/x-python",
   "name": "python",
   "nbconvert_exporter": "python",
   "pygments_lexer": "ipython3",
   "version": "3.8.8"
  }
 },
 "nbformat": 4,
 "nbformat_minor": 5
}
