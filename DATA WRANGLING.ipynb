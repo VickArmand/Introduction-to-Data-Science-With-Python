{
 "cells": [
  {
   "cell_type": "markdown",
   "id": "b73c3992",
   "metadata": {},
   "source": [
    "# DATA LOADING"
   ]
  },
  {
   "cell_type": "markdown",
   "id": "2173b09d",
   "metadata": {},
   "source": [
    "Use the read_csv() to load data from csv files"
   ]
  },
  {
   "cell_type": "markdown",
   "id": "a45fe97d",
   "metadata": {},
   "source": [
    "Use the to_csv() to load data to the csv file"
   ]
  },
  {
   "cell_type": "markdown",
   "id": "b0d28f03",
   "metadata": {},
   "source": [
    "use the read_excel() to load data from excel files and to_excel() to load data into excel files"
   ]
  },
  {
   "cell_type": "markdown",
   "id": "dbc85fa4",
   "metadata": {},
   "source": [
    "# DATA EXPLORATION"
   ]
  },
  {
   "cell_type": "markdown",
   "id": "cedb242a",
   "metadata": {},
   "source": [
    "DATA EXPLORATION TECHNIQUES\n",
    "\n",
    "    Dimensionality check-checking the shape of dataset\n",
    "    Type of dataset- use the type(), one can also check the type of the column\n",
    "    Slicing and Indexing-involves use of [] with a range eg: list[1:3] whereby the value on the left of the colon is the start index while value on right is the end index. One can also use iloc for indexes eg iloc[a:b, x:y] where a represent start row index, b represent end row index ,x represents start column index, y represents ending column index\n",
    "    Identifying Unique Elements- use unique()\n",
    "    Value extraction- use value()\n",
    "    Feature mean-sum of data divided by total data points.use mean()\n",
    "    Feature median- separates the upper half from the lower half. Use meadian()\n",
    "    Feature mode- most frequent value. use mode() and specify the axis\n",
    "    eg: df.mode(axis=0)"
   ]
  },
  {
   "cell_type": "markdown",
   "id": "98273f83",
   "metadata": {},
   "source": [
    "# SEABORN"
   ]
  },
  {
   "cell_type": "markdown",
   "id": "42b427d0",
   "metadata": {},
   "source": [
    "It is a library built on top of matplotlib integrated with pydata stack for creating informative graphs in py\n",
    "\n",
    "It supports numpy and pandas"
   ]
  },
  {
   "cell_type": "markdown",
   "id": "f90d2665",
   "metadata": {},
   "source": [
    "To install Seaborn one can use:\n",
    "    pip install seaborn"
   ]
  },
  {
   "cell_type": "markdown",
   "id": "bbfab0c4",
   "metadata": {},
   "source": [
    "Heatmap\n",
    "It is a type of graph that uses color for visualization"
   ]
  },
  {
   "cell_type": "code",
   "execution_count": 5,
   "id": "42822ac7",
   "metadata": {},
   "outputs": [],
   "source": [
    "import seaborn as sns\n",
    "import pandas as pd\n",
    "import matplotlib.pyplot as plt "
   ]
  },
  {
   "cell_type": "code",
   "execution_count": 9,
   "id": "0499ee7b",
   "metadata": {},
   "outputs": [
    {
     "data": {
      "text/plain": [
       "(array([0.5, 1.5, 2.5, 3.5, 4.5]),\n",
       " [Text(0.5, 0, 'Unnamed: 0'),\n",
       "  Text(1.5, 0, 'TV Ad Budget ($)'),\n",
       "  Text(2.5, 0, 'Radio Ad Budget ($)'),\n",
       "  Text(3.5, 0, 'Newspaper Ad Budget ($)'),\n",
       "  Text(4.5, 0, 'Sales ($)')])"
      ]
     },
     "execution_count": 9,
     "metadata": {},
     "output_type": "execute_result"
    },
    {
     "data": {
      "image/png": "[encoded data removed]",
      "text/plain": [
       "<Figure size 432x288 with 2 Axes>"
      ]
     },
     "metadata": {
      "needs_background": "light"
     },
     "output_type": "display_data"
    }
   ],
   "source": [
    "advert_data=pd.read_csv('C:/Users/VICKFURY/Documents/projects/Python Scripts/ml/datasets/Advertising_Budget_and_Sales/Advertising Budget and Sales.csv')\n",
    "sns.heatmap(advert_data.corr(),square=True,cmap='bwr')\n",
    "# square=True sets every cell to be in square shape\n",
    "# cmap represents the matplotlib colormap name, object or list of colors\n",
    "plt.yticks(rotation=0)\n",
    "plt.xticks(rotation=90)"
   ]
  },
  {
   "cell_type": "markdown",
   "id": "4474d5c7",
   "metadata": {},
   "source": [
    "# DATA WRANGLING"
   ]
  },
  {
   "cell_type": "markdown",
   "id": "92b3d826",
   "metadata": {},
   "source": [
    "It involves converting or mapping data from one raw format into another format\n",
    "\n",
    "It is the process of gathering,sorting and transforming data inorder to do in-depth analysis"
   ]
  },
  {
   "cell_type": "markdown",
   "id": "da7a8bfb",
   "metadata": {},
   "source": [
    "## DATA WRANGLING TASKS"
   ]
  },
  {
   "cell_type": "markdown",
   "id": "c891a6c3",
   "metadata": {},
   "source": [
    "    Extracting features\n",
    "    Mapping featres to the actual feature set\n",
    "    Cleaning\n",
    "    Enrichment-Adding new features to make data more informative\n",
    "    Validating- Defining whether data has some missing or wrong info"
   ]
  },
  {
   "cell_type": "markdown",
   "id": "1834fc1b",
   "metadata": {},
   "source": [
    "## Importance of Data wrangling "
   ]
  },
  {
   "cell_type": "markdown",
   "id": "23ab5965",
   "metadata": {},
   "source": [
    "It helps avoid the following issues:\n",
    "\n",
    "    Missing data\n",
    "    Presence of noisy data/outliers\n",
    "    Inconsistent data\n",
    "    "
   ]
  },
  {
   "cell_type": "markdown",
   "id": "8de35015",
   "metadata": {},
   "source": [
    "To detect columns with missing values use:\n",
    "\n",
    "    df.isna().any()"
   ]
  },
  {
   "cell_type": "markdown",
   "id": "94bcc4d4",
   "metadata": {},
   "source": [
    "Missing value treatment can be in 2 forms:\n",
    "    \n",
    "    Mean imputation-Replace missing value with the variable mean\n",
    "    Median imputation--Replace missing value with the variable median"
   ]
  },
  {
   "cell_type": "markdown",
   "id": "0506b878",
   "metadata": {},
   "source": [
    "Mean imputation code:\n",
    "\n",
    "    from sklearn.impute import SimpleImputer\n",
    "    import numpy as np\n",
    "    mean_imputer=SimpleImputer(missing_values=np.nan,strategy='mean')\n",
    "    mean_imputer=mean_imputer.fit(df1)\n",
    "    imputed_df=mean_imputer.transform(df1.values)\n",
    "    "
   ]
  },
  {
   "cell_type": "markdown",
   "id": "6e6842f8",
   "metadata": {},
   "source": [
    "Median imputation code:\n",
    "    \n",
    "    from sklearn.impute import SimpleImputer\n",
    "    import numpy as np\n",
    "    median_imputer=SimpleImputer(missing_values=np.nan,strategy='median')\n",
    "    median_imputer=median_imputer.fit(df1)\n",
    "    imputed_df=median_imputer.transform(df1.values)"
   ]
  },
  {
   "cell_type": "markdown",
   "id": "fe92c9a6",
   "metadata": {},
   "source": [
    "Both mean and median imputation are model dependent and are applicable on numerical data"
   ]
  },
  {
   "cell_type": "markdown",
   "id": "8dcba9ef",
   "metadata": {},
   "source": [
    "# OUTLIER DETECTION"
   ]
  },
  {
   "cell_type": "markdown",
   "id": "8d394cc5",
   "metadata": {},
   "source": [
    "Outliers are values that lie outside usual observation of values.\n",
    "They skew the data when you are trying to compute any type of average"
   ]
  },
  {
   "cell_type": "markdown",
   "id": "de38ba24",
   "metadata": {},
   "source": [
    "In order to detect outliers you have to use seaborn's boxplot:\n",
    "    \n",
    "    import seaborn as sns\n",
    "    sns.boxplot(x=df1['column'])"
   ]
  },
  {
   "cell_type": "markdown",
   "id": "a04df9a3",
   "metadata": {},
   "source": [
    "# OUTLIER TREATMENT"
   ]
  },
  {
   "cell_type": "markdown",
   "id": "c559f824",
   "metadata": {},
   "source": [
    "Create a filter based on the boxplot obtained and apply the filter to the data frame"
   ]
  },
  {
   "cell_type": "markdown",
   "id": "0e5222bd",
   "metadata": {},
   "source": [
    "filter=df1['column']>60\n",
    "\n",
    "df_outliernone=df1[fliter]\n",
    "\n",
    "filter has no outliers"
   ]
  },
  {
   "cell_type": "markdown",
   "id": "9e1a9b09",
   "metadata": {},
   "source": [
    "# OUTLIERS DEMO"
   ]
  },
  {
   "cell_type": "code",
   "execution_count": 21,
   "id": "9783ba9b",
   "metadata": {},
   "outputs": [],
   "source": [
    "import numpy as np\n",
    "import pandas as pd\n",
    "import matplotlib.pyplot as plt\n",
    "%matplotlib inline\n",
    "from sklearn.datasets import load_diabetes\n",
    "diabetes_dataset=load_diabetes()"
   ]
  },
  {
   "cell_type": "code",
   "execution_count": 22,
   "id": "93cc0ab3",
   "metadata": {},
   "outputs": [
    {
     "data": {
      "text/plain": [
       "array([151.,  75., 141., 206., 135.,  97., 138.,  63., 110., 310., 101.,\n",
       "        69., 179., 185., 118., 171., 166., 144.,  97., 168.,  68.,  49.,\n",
       "        68., 245., 184., 202., 137.,  85., 131., 283., 129.,  59., 341.,\n",
       "        87.,  65., 102., 265., 276., 252.,  90., 100.,  55.,  61.,  92.,\n",
       "       259.,  53., 190., 142.,  75., 142., 155., 225.,  59., 104., 182.,\n",
       "       128.,  52.,  37., 170., 170.,  61., 144.,  52., 128.,  71., 163.,\n",
       "       150.,  97., 160., 178.,  48., 270., 202., 111.,  85.,  42., 170.,\n",
       "       200., 252., 113., 143.,  51.,  52., 210.,  65., 141.,  55., 134.,\n",
       "        42., 111.,  98., 164.,  48.,  96.,  90., 162., 150., 279.,  92.,\n",
       "        83., 128., 102., 302., 198.,  95.,  53., 134., 144., 232.,  81.,\n",
       "       104.,  59., 246., 297., 258., 229., 275., 281., 179., 200., 200.,\n",
       "       173., 180.,  84., 121., 161.,  99., 109., 115., 268., 274., 158.,\n",
       "       107.,  83., 103., 272.,  85., 280., 336., 281., 118., 317., 235.,\n",
       "        60., 174., 259., 178., 128.,  96., 126., 288.,  88., 292.,  71.,\n",
       "       197., 186.,  25.,  84.,  96., 195.,  53., 217., 172., 131., 214.,\n",
       "        59.,  70., 220., 268., 152.,  47.,  74., 295., 101., 151., 127.,\n",
       "       237., 225.,  81., 151., 107.,  64., 138., 185., 265., 101., 137.,\n",
       "       143., 141.,  79., 292., 178.,  91., 116.,  86., 122.,  72., 129.,\n",
       "       142.,  90., 158.,  39., 196., 222., 277.,  99., 196., 202., 155.,\n",
       "        77., 191.,  70.,  73.,  49.,  65., 263., 248., 296., 214., 185.,\n",
       "        78.,  93., 252., 150.,  77., 208.,  77., 108., 160.,  53., 220.,\n",
       "       154., 259.,  90., 246., 124.,  67.,  72., 257., 262., 275., 177.,\n",
       "        71.,  47., 187., 125.,  78.,  51., 258., 215., 303., 243.,  91.,\n",
       "       150., 310., 153., 346.,  63.,  89.,  50.,  39., 103., 308., 116.,\n",
       "       145.,  74.,  45., 115., 264.,  87., 202., 127., 182., 241.,  66.,\n",
       "        94., 283.,  64., 102., 200., 265.,  94., 230., 181., 156., 233.,\n",
       "        60., 219.,  80.,  68., 332., 248.,  84., 200.,  55.,  85.,  89.,\n",
       "        31., 129.,  83., 275.,  65., 198., 236., 253., 124.,  44., 172.,\n",
       "       114., 142., 109., 180., 144., 163., 147.,  97., 220., 190., 109.,\n",
       "       191., 122., 230., 242., 248., 249., 192., 131., 237.,  78., 135.,\n",
       "       244., 199., 270., 164.,  72.,  96., 306.,  91., 214.,  95., 216.,\n",
       "       263., 178., 113., 200., 139., 139.,  88., 148.,  88., 243.,  71.,\n",
       "        77., 109., 272.,  60.,  54., 221.,  90., 311., 281., 182., 321.,\n",
       "        58., 262., 206., 233., 242., 123., 167.,  63., 197.,  71., 168.,\n",
       "       140., 217., 121., 235., 245.,  40.,  52., 104., 132.,  88.,  69.,\n",
       "       219.,  72., 201., 110.,  51., 277.,  63., 118.,  69., 273., 258.,\n",
       "        43., 198., 242., 232., 175.,  93., 168., 275., 293., 281.,  72.,\n",
       "       140., 189., 181., 209., 136., 261., 113., 131., 174., 257.,  55.,\n",
       "        84.,  42., 146., 212., 233.,  91., 111., 152., 120.,  67., 310.,\n",
       "        94., 183.,  66., 173.,  72.,  49.,  64.,  48., 178., 104., 132.,\n",
       "       220.,  57.])"
      ]
     },
     "execution_count": 22,
     "metadata": {},
     "output_type": "execute_result"
    }
   ],
   "source": [
    "diabetes_dataset.target"
   ]
  },
  {
   "cell_type": "code",
   "execution_count": 23,
   "id": "63e55a3b",
   "metadata": {},
   "outputs": [
    {
     "data": {
      "text/plain": [
       "['age', 'sex', 'bmi', 'bp', 's1', 's2', 's3', 's4', 's5', 's6']"
      ]
     },
     "execution_count": 23,
     "metadata": {},
     "output_type": "execute_result"
    }
   ],
   "source": [
    "diabetes_dataset['feature_names']"
   ]
  },
  {
   "cell_type": "code",
   "execution_count": 24,
   "id": "d83a940c",
   "metadata": {},
   "outputs": [],
   "source": [
    "df=pd.DataFrame(data=np.c_[diabetes_dataset['data'],diabetes_dataset['target']],columns=diabetes_dataset['feature_names']+['target'])"
   ]
  },
  {
   "cell_type": "code",
   "execution_count": 25,
   "id": "4ecd6a61",
   "metadata": {},
   "outputs": [
    {
     "data": {
      "text/html": [
       "<div>\n",
       "<style scoped>\n",
       "    .dataframe tbody tr th:only-of-type {\n",
       "        vertical-align: middle;\n",
       "    }\n",
       "\n",
       "    .dataframe tbody tr th {\n",
       "        vertical-align: top;\n",
       "    }\n",
       "\n",
       "    .dataframe thead th {\n",
       "        text-align: right;\n",
       "    }\n",
       "</style>\n",
       "<table border=\"1\" class=\"dataframe\">\n",
       "  <thead>\n",
       "    <tr style=\"text-align: right;\">\n",
       "      <th></th>\n",
       "      <th>age</th>\n",
       "      <th>sex</th>\n",
       "      <th>bmi</th>\n",
       "      <th>bp</th>\n",
       "      <th>s1</th>\n",
       "      <th>s2</th>\n",
       "      <th>s3</th>\n",
       "      <th>s4</th>\n",
       "      <th>s5</th>\n",
       "      <th>s6</th>\n",
       "      <th>target</th>\n",
       "    </tr>\n",
       "  </thead>\n",
       "  <tbody>\n",
       "    <tr>\n",
       "      <th>0</th>\n",
       "      <td>0.038076</td>\n",
       "      <td>0.050680</td>\n",
       "      <td>0.061696</td>\n",
       "      <td>0.021872</td>\n",
       "      <td>-0.044223</td>\n",
       "      <td>-0.034821</td>\n",
       "      <td>-0.043401</td>\n",
       "      <td>-0.002592</td>\n",
       "      <td>0.019908</td>\n",
       "      <td>-0.017646</td>\n",
       "      <td>151.0</td>\n",
       "    </tr>\n",
       "    <tr>\n",
       "      <th>1</th>\n",
       "      <td>-0.001882</td>\n",
       "      <td>-0.044642</td>\n",
       "      <td>-0.051474</td>\n",
       "      <td>-0.026328</td>\n",
       "      <td>-0.008449</td>\n",
       "      <td>-0.019163</td>\n",
       "      <td>0.074412</td>\n",
       "      <td>-0.039493</td>\n",
       "      <td>-0.068330</td>\n",
       "      <td>-0.092204</td>\n",
       "      <td>75.0</td>\n",
       "    </tr>\n",
       "    <tr>\n",
       "      <th>2</th>\n",
       "      <td>0.085299</td>\n",
       "      <td>0.050680</td>\n",
       "      <td>0.044451</td>\n",
       "      <td>-0.005671</td>\n",
       "      <td>-0.045599</td>\n",
       "      <td>-0.034194</td>\n",
       "      <td>-0.032356</td>\n",
       "      <td>-0.002592</td>\n",
       "      <td>0.002864</td>\n",
       "      <td>-0.025930</td>\n",
       "      <td>141.0</td>\n",
       "    </tr>\n",
       "    <tr>\n",
       "      <th>3</th>\n",
       "      <td>-0.089063</td>\n",
       "      <td>-0.044642</td>\n",
       "      <td>-0.011595</td>\n",
       "      <td>-0.036656</td>\n",
       "      <td>0.012191</td>\n",
       "      <td>0.024991</td>\n",
       "      <td>-0.036038</td>\n",
       "      <td>0.034309</td>\n",
       "      <td>0.022692</td>\n",
       "      <td>-0.009362</td>\n",
       "      <td>206.0</td>\n",
       "    </tr>\n",
       "    <tr>\n",
       "      <th>4</th>\n",
       "      <td>0.005383</td>\n",
       "      <td>-0.044642</td>\n",
       "      <td>-0.036385</td>\n",
       "      <td>0.021872</td>\n",
       "      <td>0.003935</td>\n",
       "      <td>0.015596</td>\n",
       "      <td>0.008142</td>\n",
       "      <td>-0.002592</td>\n",
       "      <td>-0.031991</td>\n",
       "      <td>-0.046641</td>\n",
       "      <td>135.0</td>\n",
       "    </tr>\n",
       "    <tr>\n",
       "      <th>...</th>\n",
       "      <td>...</td>\n",
       "      <td>...</td>\n",
       "      <td>...</td>\n",
       "      <td>...</td>\n",
       "      <td>...</td>\n",
       "      <td>...</td>\n",
       "      <td>...</td>\n",
       "      <td>...</td>\n",
       "      <td>...</td>\n",
       "      <td>...</td>\n",
       "      <td>...</td>\n",
       "    </tr>\n",
       "    <tr>\n",
       "      <th>437</th>\n",
       "      <td>0.041708</td>\n",
       "      <td>0.050680</td>\n",
       "      <td>0.019662</td>\n",
       "      <td>0.059744</td>\n",
       "      <td>-0.005697</td>\n",
       "      <td>-0.002566</td>\n",
       "      <td>-0.028674</td>\n",
       "      <td>-0.002592</td>\n",
       "      <td>0.031193</td>\n",
       "      <td>0.007207</td>\n",
       "      <td>178.0</td>\n",
       "    </tr>\n",
       "    <tr>\n",
       "      <th>438</th>\n",
       "      <td>-0.005515</td>\n",
       "      <td>0.050680</td>\n",
       "      <td>-0.015906</td>\n",
       "      <td>-0.067642</td>\n",
       "      <td>0.049341</td>\n",
       "      <td>0.079165</td>\n",
       "      <td>-0.028674</td>\n",
       "      <td>0.034309</td>\n",
       "      <td>-0.018118</td>\n",
       "      <td>0.044485</td>\n",
       "      <td>104.0</td>\n",
       "    </tr>\n",
       "    <tr>\n",
       "      <th>439</th>\n",
       "      <td>0.041708</td>\n",
       "      <td>0.050680</td>\n",
       "      <td>-0.015906</td>\n",
       "      <td>0.017282</td>\n",
       "      <td>-0.037344</td>\n",
       "      <td>-0.013840</td>\n",
       "      <td>-0.024993</td>\n",
       "      <td>-0.011080</td>\n",
       "      <td>-0.046879</td>\n",
       "      <td>0.015491</td>\n",
       "      <td>132.0</td>\n",
       "    </tr>\n",
       "    <tr>\n",
       "      <th>440</th>\n",
       "      <td>-0.045472</td>\n",
       "      <td>-0.044642</td>\n",
       "      <td>0.039062</td>\n",
       "      <td>0.001215</td>\n",
       "      <td>0.016318</td>\n",
       "      <td>0.015283</td>\n",
       "      <td>-0.028674</td>\n",
       "      <td>0.026560</td>\n",
       "      <td>0.044528</td>\n",
       "      <td>-0.025930</td>\n",
       "      <td>220.0</td>\n",
       "    </tr>\n",
       "    <tr>\n",
       "      <th>441</th>\n",
       "      <td>-0.045472</td>\n",
       "      <td>-0.044642</td>\n",
       "      <td>-0.073030</td>\n",
       "      <td>-0.081414</td>\n",
       "      <td>0.083740</td>\n",
       "      <td>0.027809</td>\n",
       "      <td>0.173816</td>\n",
       "      <td>-0.039493</td>\n",
       "      <td>-0.004220</td>\n",
       "      <td>0.003064</td>\n",
       "      <td>57.0</td>\n",
       "    </tr>\n",
       "  </tbody>\n",
       "</table>\n",
       "<p>442 rows × 11 columns</p>\n",
       "</div>"
      ],
      "text/plain": [
       "          age       sex       bmi        bp        s1        s2        s3  \\\n",
       "0    0.038076  0.050680  0.061696  0.021872 -0.044223 -0.034821 -0.043401   \n",
       "1   -0.001882 -0.044642 -0.051474 -0.026328 -0.008449 -0.019163  0.074412   \n",
       "2    0.085299  0.050680  0.044451 -0.005671 -0.045599 -0.034194 -0.032356   \n",
       "3   -0.089063 -0.044642 -0.011595 -0.036656  0.012191  0.024991 -0.036038   \n",
       "4    0.005383 -0.044642 -0.036385  0.021872  0.003935  0.015596  0.008142   \n",
       "..        ...       ...       ...       ...       ...       ...       ...   \n",
       "437  0.041708  0.050680  0.019662  0.059744 -0.005697 -0.002566 -0.028674   \n",
       "438 -0.005515  0.050680 -0.015906 -0.067642  0.049341  0.079165 -0.028674   \n",
       "439  0.041708  0.050680 -0.015906  0.017282 -0.037344 -0.013840 -0.024993   \n",
       "440 -0.045472 -0.044642  0.039062  0.001215  0.016318  0.015283 -0.028674   \n",
       "441 -0.045472 -0.044642 -0.073030 -0.081414  0.083740  0.027809  0.173816   \n",
       "\n",
       "           s4        s5        s6  target  \n",
       "0   -0.002592  0.019908 -0.017646   151.0  \n",
       "1   -0.039493 -0.068330 -0.092204    75.0  \n",
       "2   -0.002592  0.002864 -0.025930   141.0  \n",
       "3    0.034309  0.022692 -0.009362   206.0  \n",
       "4   -0.002592 -0.031991 -0.046641   135.0  \n",
       "..        ...       ...       ...     ...  \n",
       "437 -0.002592  0.031193  0.007207   178.0  \n",
       "438  0.034309 -0.018118  0.044485   104.0  \n",
       "439 -0.011080 -0.046879  0.015491   132.0  \n",
       "440  0.026560  0.044528 -0.025930   220.0  \n",
       "441 -0.039493 -0.004220  0.003064    57.0  \n",
       "\n",
       "[442 rows x 11 columns]"
      ]
     },
     "execution_count": 25,
     "metadata": {},
     "output_type": "execute_result"
    }
   ],
   "source": [
    "df"
   ]
  },
  {
   "cell_type": "code",
   "execution_count": 26,
   "id": "17e2b990",
   "metadata": {},
   "outputs": [
    {
     "data": {
      "text/plain": [
       "age       False\n",
       "sex       False\n",
       "bmi       False\n",
       "bp        False\n",
       "s1        False\n",
       "s2        False\n",
       "s3        False\n",
       "s4        False\n",
       "s5        False\n",
       "s6        False\n",
       "target    False\n",
       "dtype: bool"
      ]
     },
     "execution_count": 26,
     "metadata": {},
     "output_type": "execute_result"
    }
   ],
   "source": [
    "df.isnull().any()"
   ]
  },
  {
   "cell_type": "code",
   "execution_count": 28,
   "id": "ef16502c",
   "metadata": {},
   "outputs": [
    {
     "data": {
      "image/png": "[encoded data removed]",
      "text/plain": [
       "<Figure size 432x288 with 1 Axes>"
      ]
     },
     "metadata": {
      "needs_background": "light"
     },
     "output_type": "display_data"
    },
    {
     "data": {
      "image/png": "[encoded data removed]",
      "text/plain": [
       "<Figure size 432x288 with 1 Axes>"
      ]
     },
     "metadata": {
      "needs_background": "light"
     },
     "output_type": "display_data"
    },
    {
     "data": {
      "image/png": "[encoded data removed]",
      "text/plain": [
       "<Figure size 432x288 with 1 Axes>"
      ]
     },
     "metadata": {
      "needs_background": "light"
     },
     "output_type": "display_data"
    },
    {
     "data": {
      "image/png": "[encoded data removed]",
      "text/plain": [
       "<Figure size 432x288 with 1 Axes>"
      ]
     },
     "metadata": {
      "needs_background": "light"
     },
     "output_type": "display_data"
    },
    {
     "data": {
      "image/png": "[encoded data removed]",
      "text/plain": [
       "<Figure size 432x288 with 1 Axes>"
      ]
     },
     "metadata": {
      "needs_background": "light"
     },
     "output_type": "display_data"
    },
    {
     "data": {
      "image/png": "[encoded data removed]",
      "text/plain": [
       "<Figure size 432x288 with 1 Axes>"
      ]
     },
     "metadata": {
      "needs_background": "light"
     },
     "output_type": "display_data"
    },
    {
     "data": {
      "image/png": "[encoded data removed]",
      "text/plain": [
       "<Figure size 432x288 with 1 Axes>"
      ]
     },
     "metadata": {
      "needs_background": "light"
     },
     "output_type": "display_data"
    },
    {
     "data": {
      "image/png": "[encoded data removed]",
      "text/plain": [
       "<Figure size 432x288 with 1 Axes>"
      ]
     },
     "metadata": {
      "needs_background": "light"
     },
     "output_type": "display_data"
    },
    {
     "data": {
      "image/png": "[encoded data removed]",
      "text/plain": [
       "<Figure size 432x288 with 1 Axes>"
      ]
     },
     "metadata": {
      "needs_background": "light"
     },
     "output_type": "display_data"
    },
    {
     "data": {
      "image/png": "[encoded data removed]",
      "text/plain": [
       "<Figure size 432x288 with 1 Axes>"
      ]
     },
     "metadata": {
      "needs_background": "light"
     },
     "output_type": "display_data"
    },
    {
     "data": {
      "image/png": "[encoded data removed]",
      "text/plain": [
       "<Figure size 432x288 with 1 Axes>"
      ]
     },
     "metadata": {
      "needs_background": "light"
     },
     "output_type": "display_data"
    }
   ],
   "source": [
    "for column in df:\n",
    "    plt.figure()\n",
    "    df.boxplot(column)"
   ]
  },
  {
   "cell_type": "code",
   "execution_count": null,
   "id": "736bec9c",
   "metadata": {},
   "outputs": [],
   "source": []
  },
  {
   "cell_type": "code",
   "execution_count": null,
   "id": "169ad2b0",
   "metadata": {},
   "outputs": [],
   "source": []
  },
  {
   "cell_type": "markdown",
   "id": "f505b235",
   "metadata": {},
   "source": [
    "# DATA MANIPULATION"
   ]
  },
  {
   "cell_type": "markdown",
   "id": "810fa238",
   "metadata": {},
   "source": [
    "Involves performing operations on data in order to gather specific info on data"
   ]
  },
  {
   "cell_type": "markdown",
   "id": "93aa3059",
   "metadata": {},
   "source": [
    "Data objects in python\n",
    "\n",
    "    These are 2d data structures ie: data aligned in tabular fashion in rows and columns \n",
    "Examples of data objects include:\n",
    "        \n",
    "        head()-extracting the top rows in a data structure\n",
    "        tail()-extracting the last rows\n",
    "        values()-returns the actual data in the series of the array\n",
    "        groupby()-groups data frame according th a given condition eg: df.groupby().groups\n",
    "        concatenation-combines 2 data structures\n",
    "        merging- combines 2 data structures but the data structures must have a common column eg: pd.merge(df1,df2,on='Team')"
   ]
  },
  {
   "cell_type": "markdown",
   "id": "b99b861f",
   "metadata": {},
   "source": [
    "### JOINS"
   ]
  },
  {
   "cell_type": "markdown",
   "id": "f87fcbe9",
   "metadata": {},
   "source": [
    "Joins are used to combine records form 2 or more tables in a database.\n",
    "\n",
    "A join always locates related column values in the 2 tables\n",
    "\n",
    "Types of Joins:\n",
    "\n",
    "    Left -Returns all rows from left table even if there are no matches in the right table eg:df.merge(df1,df2,on='Team',how='left')\n",
    "    Right- Preserves unmatched rows from right table by joining them with a NULL in the shape of the left table\n",
    "    Inner-Selects all rows with both tables that have a match \n",
    "    Full outer-Returns all records when there is a match in either left or right table records"
   ]
  },
  {
   "cell_type": "code",
   "execution_count": null,
   "id": "4b797162",
   "metadata": {},
   "outputs": [],
   "source": []
  }
 ],
 "metadata": {
  "kernelspec": {
   "display_name": "Python 3",
   "language": "python",
   "name": "python3"
  },
  "language_info": {
   "codemirror_mode": {
    "name": "ipython",
    "version": 3
   },
   "file_extension": ".py",
   "mimetype": "text/x-python",
   "name": "python",
   "nbconvert_exporter": "python",
   "pygments_lexer": "ipython3",
   "version": "3.8.8"
  }
 },
 "nbformat": 4,
 "nbformat_minor": 5
}
