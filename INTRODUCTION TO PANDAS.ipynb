{
 "cells": [
  {
   "cell_type": "markdown",
   "id": "b457549d",
   "metadata": {},
   "source": [
    "# Pandas "
   ]
  },
  {
   "cell_type": "markdown",
   "id": "70b8454e",
   "metadata": {},
   "source": [
    "It is an open source pthon library for data analysis, data wrangling(cleanning and preparation)\n",
    "It can work with data of any source\n",
    "It has configurable high level data structures"
   ]
  },
  {
   "cell_type": "markdown",
   "id": "5690f0a4",
   "metadata": {},
   "source": [
    "FEATURES OF PANDAS\n",
    "     \n",
    "- Powerful data structure\n",
    "- Fast and efficient data wrangling\n",
    "- Easy data aggregation and transformation \n",
    "- Tools for reading/ writing data\n",
    "- Data alignment\n",
    "- High performance merging and joining datasets"
   ]
  },
  {
   "cell_type": "markdown",
   "id": "0fef55b0",
   "metadata": {},
   "source": [
    "PANDAS DATA STRUCTURES\n",
    "\n",
    "- Series\n",
    "- Data Frame\n",
    "- Panel- 3D labelled array which supports multiple data types (items->axis 0, major axis->rows,minor axis->columns)\n",
    "- Panel 4D(Experimental)-4D labelled array which supports multiple data types(labels->axis 0 items->axis 1, major axis->rows,minor axis->columns)"
   ]
  },
  {
   "cell_type": "markdown",
   "id": "5cb228f5",
   "metadata": {},
   "source": [
    "## Series"
   ]
  },
  {
   "cell_type": "markdown",
   "id": "5f7260c9",
   "metadata": {},
   "source": [
    "One dimensional labelled array that supports multiple data types\n",
    "Series can carry any type of object such as string,numbers,built in functions\n",
    "Series is like a python dictionary since it consists of labels and data just like dictionaries have key value pairs"
   ]
  },
  {
   "cell_type": "code",
   "execution_count": 1,
   "id": "0716969e",
   "metadata": {},
   "outputs": [],
   "source": [
    "import numpy as np\n",
    "import pandas as pd"
   ]
  },
  {
   "cell_type": "code",
   "execution_count": 2,
   "id": "9d50fbc7",
   "metadata": {},
   "outputs": [],
   "source": [
    "labels=['a','b','c']\n",
    "mydata=[10,20,30]\n",
    "arr=np.array(mydata)\n",
    "d={'a':10,'b':20,'c':30}"
   ]
  },
  {
   "cell_type": "code",
   "execution_count": 3,
   "id": "5ba53068",
   "metadata": {},
   "outputs": [
    {
     "data": {
      "text/plain": [
       "0    10\n",
       "1    20\n",
       "2    30\n",
       "dtype: int64"
      ]
     },
     "execution_count": 3,
     "metadata": {},
     "output_type": "execute_result"
    }
   ],
   "source": [
    "pd.Series(data=mydata)"
   ]
  },
  {
   "cell_type": "code",
   "execution_count": 4,
   "id": "51d601f1",
   "metadata": {},
   "outputs": [
    {
     "data": {
      "text/plain": [
       "a    10\n",
       "b    20\n",
       "c    30\n",
       "dtype: int64"
      ]
     },
     "execution_count": 4,
     "metadata": {},
     "output_type": "execute_result"
    }
   ],
   "source": [
    "pd.Series(data=mydata,index=labels)"
   ]
  },
  {
   "cell_type": "code",
   "execution_count": 5,
   "id": "5b000065",
   "metadata": {},
   "outputs": [
    {
     "data": {
      "text/plain": [
       "a    10\n",
       "b    20\n",
       "c    30\n",
       "dtype: int64"
      ]
     },
     "execution_count": 5,
     "metadata": {},
     "output_type": "execute_result"
    }
   ],
   "source": [
    "pd.Series(mydata,labels)"
   ]
  },
  {
   "cell_type": "code",
   "execution_count": 6,
   "id": "ca47f45c",
   "metadata": {},
   "outputs": [
    {
     "data": {
      "text/plain": [
       "0    10\n",
       "1    20\n",
       "2    30\n",
       "dtype: int32"
      ]
     },
     "execution_count": 6,
     "metadata": {},
     "output_type": "execute_result"
    }
   ],
   "source": [
    "pd.Series(np.array([10,20,30]))"
   ]
  },
  {
   "cell_type": "code",
   "execution_count": 7,
   "id": "066a91e9",
   "metadata": {},
   "outputs": [
    {
     "data": {
      "text/plain": [
       "a    10\n",
       "b    20\n",
       "c    30\n",
       "dtype: int64"
      ]
     },
     "execution_count": 7,
     "metadata": {},
     "output_type": "execute_result"
    }
   ],
   "source": [
    "pd.Series(d)"
   ]
  },
  {
   "cell_type": "code",
   "execution_count": 8,
   "id": "4ba2714e",
   "metadata": {},
   "outputs": [
    {
     "data": {
      "text/plain": [
       "0    <built-in function print>\n",
       "1      <built-in function sum>\n",
       "2      <built-in function len>\n",
       "dtype: object"
      ]
     },
     "execution_count": 8,
     "metadata": {},
     "output_type": "execute_result"
    }
   ],
   "source": [
    "pd.Series(data=[print,sum,len])"
   ]
  },
  {
   "cell_type": "code",
   "execution_count": 9,
   "id": "6d1c4595",
   "metadata": {},
   "outputs": [
    {
     "data": {
      "text/plain": [
       "0    a\n",
       "1    b\n",
       "2    c\n",
       "3    d\n",
       "4    e\n",
       "5    f\n",
       "dtype: object"
      ]
     },
     "execution_count": 9,
     "metadata": {},
     "output_type": "execute_result"
    }
   ],
   "source": [
    "pd.Series(list('abcdef'))"
   ]
  },
  {
   "cell_type": "code",
   "execution_count": 10,
   "id": "0265cc26",
   "metadata": {},
   "outputs": [
    {
     "data": {
      "text/plain": [
       "a    5\n",
       "b    5\n",
       "c    5\n",
       "d    5\n",
       "e    5\n",
       "dtype: int64"
      ]
     },
     "execution_count": 10,
     "metadata": {},
     "output_type": "execute_result"
    }
   ],
   "source": [
    "pd.Series(5,index=['a','b','c','d','e'])"
   ]
  },
  {
   "cell_type": "markdown",
   "id": "c47ec8f2",
   "metadata": {},
   "source": [
    "### ACCESSING SERIES ELEMENTS"
   ]
  },
  {
   "cell_type": "code",
   "execution_count": 11,
   "id": "6e7477ff",
   "metadata": {},
   "outputs": [
    {
     "data": {
      "text/plain": [
       "0    10\n",
       "1    20\n",
       "2    30\n",
       "dtype: int32"
      ]
     },
     "execution_count": 11,
     "metadata": {},
     "output_type": "execute_result"
    }
   ],
   "source": [
    "ser1=pd.Series(np.array([10,20,30]))\n",
    "ser1"
   ]
  },
  {
   "cell_type": "code",
   "execution_count": 12,
   "id": "17e98da4",
   "metadata": {},
   "outputs": [
    {
     "data": {
      "text/plain": [
       "20"
      ]
     },
     "execution_count": 12,
     "metadata": {},
     "output_type": "execute_result"
    }
   ],
   "source": [
    "ser1[1]"
   ]
  },
  {
   "cell_type": "code",
   "execution_count": 13,
   "id": "f17564a3",
   "metadata": {},
   "outputs": [
    {
     "data": {
      "text/plain": [
       "0    40\n",
       "1    50\n",
       "2    60\n",
       "dtype: int32"
      ]
     },
     "execution_count": 13,
     "metadata": {},
     "output_type": "execute_result"
    }
   ],
   "source": [
    "ser2=pd.Series(np.array([40,50,60]))\n",
    "ser2"
   ]
  },
  {
   "cell_type": "code",
   "execution_count": 14,
   "id": "0e6eb9e7",
   "metadata": {},
   "outputs": [
    {
     "data": {
      "text/plain": [
       "0    50\n",
       "1    70\n",
       "2    90\n",
       "dtype: int32"
      ]
     },
     "execution_count": 14,
     "metadata": {},
     "output_type": "execute_result"
    }
   ],
   "source": [
    "ser1+ser2"
   ]
  },
  {
   "cell_type": "code",
   "execution_count": 15,
   "id": "c9d66629",
   "metadata": {},
   "outputs": [
    {
     "data": {
      "text/plain": [
       "0    12\n",
       "1    22\n",
       "2    32\n",
       "dtype: int32"
      ]
     },
     "execution_count": 15,
     "metadata": {},
     "output_type": "execute_result"
    }
   ],
   "source": [
    "ser1+2"
   ]
  },
  {
   "cell_type": "code",
   "execution_count": 16,
   "id": "0bcfda76",
   "metadata": {
    "scrolled": false
   },
   "outputs": [
    {
     "data": {
      "text/plain": [
       "a    20.0\n",
       "b    40.0\n",
       "c    60.0\n",
       "d     NaN\n",
       "e     NaN\n",
       "dtype: float64"
      ]
     },
     "execution_count": 16,
     "metadata": {},
     "output_type": "execute_result"
    }
   ],
   "source": [
    "d1={'a':10,'b':20,'c':30,'d':70}\n",
    "d2={'a':10,'b':20,'c':30,'e':80}\n",
    "serx=pd.Series(d1)\n",
    "sery=pd.Series(d2)\n",
    "serx+sery"
   ]
  },
  {
   "cell_type": "code",
   "execution_count": 17,
   "id": "068a47c9",
   "metadata": {
    "scrolled": true
   },
   "outputs": [
    {
     "data": {
      "text/plain": [
       "a    10\n",
       "b    20\n",
       "c    30\n",
       "d    70\n",
       "dtype: int64"
      ]
     },
     "execution_count": 17,
     "metadata": {},
     "output_type": "execute_result"
    }
   ],
   "source": [
    "d1={'a':10,'b':20,'c':30,'d':70}\n",
    "serx=pd.Series(d1)\n",
    "serx"
   ]
  },
  {
   "cell_type": "code",
   "execution_count": 18,
   "id": "e019fbdf",
   "metadata": {},
   "outputs": [
    {
     "data": {
      "text/plain": [
       "10"
      ]
     },
     "execution_count": 18,
     "metadata": {},
     "output_type": "execute_result"
    }
   ],
   "source": [
    "# look up a value by name or index\n",
    "serx.loc['a']"
   ]
  },
  {
   "cell_type": "code",
   "execution_count": 19,
   "id": "1e1e007f",
   "metadata": {},
   "outputs": [
    {
     "data": {
      "text/plain": [
       "10"
      ]
     },
     "execution_count": 19,
     "metadata": {},
     "output_type": "execute_result"
    }
   ],
   "source": [
    "# look up  value using the position\n",
    "serx.iloc[0]"
   ]
  },
  {
   "cell_type": "markdown",
   "id": "8d7d407a",
   "metadata": {},
   "source": [
    "## DATAFRAMES"
   ]
  },
  {
   "cell_type": "markdown",
   "id": "74854d9a",
   "metadata": {},
   "source": [
    "A dataframe is a series which shares an index(a combination of multiple series with multiple indexes in 2 dimension) it is two dimensional\n",
    "Think of it like an excel spreadsheet or a dictionary of series\n",
    "It consists of columns and indexes\n",
    "Each column is actually a series"
   ]
  },
  {
   "cell_type": "code",
   "execution_count": 20,
   "id": "bbd6ecd6",
   "metadata": {},
   "outputs": [],
   "source": [
    "from numpy.random import randn\n",
    "np.random.seed(101)\n",
    "# Seed() is used to initialize the random number generator.\n",
    "# If you use the same seed every time you will get the same pattern random numbers\n",
    "# It is used to generate a new set or repeats pseudo -random numbers"
   ]
  },
  {
   "cell_type": "code",
   "execution_count": 21,
   "id": "0c203e5c",
   "metadata": {},
   "outputs": [
    {
     "data": {
      "text/html": [
       "<div>\n",
       "<style scoped>\n",
       "    .dataframe tbody tr th:only-of-type {\n",
       "        vertical-align: middle;\n",
       "    }\n",
       "\n",
       "    .dataframe tbody tr th {\n",
       "        vertical-align: top;\n",
       "    }\n",
       "\n",
       "    .dataframe thead th {\n",
       "        text-align: right;\n",
       "    }\n",
       "</style>\n",
       "<table border=\"1\" class=\"dataframe\">\n",
       "  <thead>\n",
       "    <tr style=\"text-align: right;\">\n",
       "      <th></th>\n",
       "      <th>W</th>\n",
       "      <th>X</th>\n",
       "      <th>Y</th>\n",
       "      <th>Z</th>\n",
       "    </tr>\n",
       "  </thead>\n",
       "  <tbody>\n",
       "    <tr>\n",
       "      <th>A</th>\n",
       "      <td>2.706850</td>\n",
       "      <td>0.628133</td>\n",
       "      <td>0.907969</td>\n",
       "      <td>0.503826</td>\n",
       "    </tr>\n",
       "    <tr>\n",
       "      <th>B</th>\n",
       "      <td>0.651118</td>\n",
       "      <td>-0.319318</td>\n",
       "      <td>-0.848077</td>\n",
       "      <td>0.605965</td>\n",
       "    </tr>\n",
       "    <tr>\n",
       "      <th>C</th>\n",
       "      <td>-2.018168</td>\n",
       "      <td>0.740122</td>\n",
       "      <td>0.528813</td>\n",
       "      <td>-0.589001</td>\n",
       "    </tr>\n",
       "    <tr>\n",
       "      <th>D</th>\n",
       "      <td>0.188695</td>\n",
       "      <td>-0.758872</td>\n",
       "      <td>-0.933237</td>\n",
       "      <td>0.955057</td>\n",
       "    </tr>\n",
       "    <tr>\n",
       "      <th>E</th>\n",
       "      <td>0.190794</td>\n",
       "      <td>1.978757</td>\n",
       "      <td>2.605967</td>\n",
       "      <td>0.683509</td>\n",
       "    </tr>\n",
       "  </tbody>\n",
       "</table>\n",
       "</div>"
      ],
      "text/plain": [
       "          W         X         Y         Z\n",
       "A  2.706850  0.628133  0.907969  0.503826\n",
       "B  0.651118 -0.319318 -0.848077  0.605965\n",
       "C -2.018168  0.740122  0.528813 -0.589001\n",
       "D  0.188695 -0.758872 -0.933237  0.955057\n",
       "E  0.190794  1.978757  2.605967  0.683509"
      ]
     },
     "execution_count": 21,
     "metadata": {},
     "output_type": "execute_result"
    }
   ],
   "source": [
    "df=pd.DataFrame(randn(5,4),['A','B','C','D','E'],['W','X','Y','Z'])\n",
    "df"
   ]
  },
  {
   "cell_type": "code",
   "execution_count": 22,
   "id": "42e0e4c9",
   "metadata": {},
   "outputs": [],
   "source": [
    "olympic_list={'Hostcity':['London','Beijing','Athens','Sydney','Atlanta'], 'Year':[2012,2008,2004,2000,1996],'No_of_Countries':[205,204,201,200,197]}"
   ]
  },
  {
   "cell_type": "code",
   "execution_count": 23,
   "id": "f077bc47",
   "metadata": {},
   "outputs": [
    {
     "data": {
      "text/html": [
       "<div>\n",
       "<style scoped>\n",
       "    .dataframe tbody tr th:only-of-type {\n",
       "        vertical-align: middle;\n",
       "    }\n",
       "\n",
       "    .dataframe tbody tr th {\n",
       "        vertical-align: top;\n",
       "    }\n",
       "\n",
       "    .dataframe thead th {\n",
       "        text-align: right;\n",
       "    }\n",
       "</style>\n",
       "<table border=\"1\" class=\"dataframe\">\n",
       "  <thead>\n",
       "    <tr style=\"text-align: right;\">\n",
       "      <th></th>\n",
       "      <th>Hostcity</th>\n",
       "      <th>Year</th>\n",
       "      <th>No_of_Countries</th>\n",
       "    </tr>\n",
       "  </thead>\n",
       "  <tbody>\n",
       "    <tr>\n",
       "      <th>0</th>\n",
       "      <td>London</td>\n",
       "      <td>2012</td>\n",
       "      <td>205</td>\n",
       "    </tr>\n",
       "    <tr>\n",
       "      <th>1</th>\n",
       "      <td>Beijing</td>\n",
       "      <td>2008</td>\n",
       "      <td>204</td>\n",
       "    </tr>\n",
       "    <tr>\n",
       "      <th>2</th>\n",
       "      <td>Athens</td>\n",
       "      <td>2004</td>\n",
       "      <td>201</td>\n",
       "    </tr>\n",
       "    <tr>\n",
       "      <th>3</th>\n",
       "      <td>Sydney</td>\n",
       "      <td>2000</td>\n",
       "      <td>200</td>\n",
       "    </tr>\n",
       "    <tr>\n",
       "      <th>4</th>\n",
       "      <td>Atlanta</td>\n",
       "      <td>1996</td>\n",
       "      <td>197</td>\n",
       "    </tr>\n",
       "  </tbody>\n",
       "</table>\n",
       "</div>"
      ],
      "text/plain": [
       "  Hostcity  Year  No_of_Countries\n",
       "0   London  2012              205\n",
       "1  Beijing  2008              204\n",
       "2   Athens  2004              201\n",
       "3   Sydney  2000              200\n",
       "4  Atlanta  1996              197"
      ]
     },
     "execution_count": 23,
     "metadata": {},
     "output_type": "execute_result"
    }
   ],
   "source": [
    "olympics_data=pd.DataFrame(olympic_list)\n",
    "olympics_data"
   ]
  },
  {
   "cell_type": "markdown",
   "id": "8ebea84e",
   "metadata": {},
   "source": [
    "### ACCESSING DATAFRAME COLUMNS  "
   ]
  },
  {
   "cell_type": "code",
   "execution_count": 24,
   "id": "edea7f42",
   "metadata": {},
   "outputs": [
    {
     "data": {
      "text/plain": [
       "A    2.706850\n",
       "B    0.651118\n",
       "C   -2.018168\n",
       "D    0.188695\n",
       "E    0.190794\n",
       "Name: W, dtype: float64"
      ]
     },
     "execution_count": 24,
     "metadata": {},
     "output_type": "execute_result"
    }
   ],
   "source": [
    "df['W']"
   ]
  },
  {
   "cell_type": "code",
   "execution_count": 25,
   "id": "f667996d",
   "metadata": {},
   "outputs": [
    {
     "data": {
      "text/plain": [
       "pandas.core.series.Series"
      ]
     },
     "execution_count": 25,
     "metadata": {},
     "output_type": "execute_result"
    }
   ],
   "source": [
    "type(df['W'])"
   ]
  },
  {
   "cell_type": "code",
   "execution_count": 26,
   "id": "2d0f951d",
   "metadata": {
    "scrolled": true
   },
   "outputs": [
    {
     "data": {
      "text/plain": [
       "pandas.core.frame.DataFrame"
      ]
     },
     "execution_count": 26,
     "metadata": {},
     "output_type": "execute_result"
    }
   ],
   "source": [
    "type(df)"
   ]
  },
  {
   "cell_type": "code",
   "execution_count": 27,
   "id": "5c35033d",
   "metadata": {},
   "outputs": [
    {
     "data": {
      "text/plain": [
       "A    2.706850\n",
       "B    0.651118\n",
       "C   -2.018168\n",
       "D    0.188695\n",
       "E    0.190794\n",
       "Name: W, dtype: float64"
      ]
     },
     "execution_count": 27,
     "metadata": {},
     "output_type": "execute_result"
    }
   ],
   "source": [
    "df.W"
   ]
  },
  {
   "cell_type": "code",
   "execution_count": 28,
   "id": "60110ce6",
   "metadata": {},
   "outputs": [
    {
     "data": {
      "text/html": [
       "<div>\n",
       "<style scoped>\n",
       "    .dataframe tbody tr th:only-of-type {\n",
       "        vertical-align: middle;\n",
       "    }\n",
       "\n",
       "    .dataframe tbody tr th {\n",
       "        vertical-align: top;\n",
       "    }\n",
       "\n",
       "    .dataframe thead th {\n",
       "        text-align: right;\n",
       "    }\n",
       "</style>\n",
       "<table border=\"1\" class=\"dataframe\">\n",
       "  <thead>\n",
       "    <tr style=\"text-align: right;\">\n",
       "      <th></th>\n",
       "      <th>W</th>\n",
       "      <th>Z</th>\n",
       "    </tr>\n",
       "  </thead>\n",
       "  <tbody>\n",
       "    <tr>\n",
       "      <th>A</th>\n",
       "      <td>2.706850</td>\n",
       "      <td>0.503826</td>\n",
       "    </tr>\n",
       "    <tr>\n",
       "      <th>B</th>\n",
       "      <td>0.651118</td>\n",
       "      <td>0.605965</td>\n",
       "    </tr>\n",
       "    <tr>\n",
       "      <th>C</th>\n",
       "      <td>-2.018168</td>\n",
       "      <td>-0.589001</td>\n",
       "    </tr>\n",
       "    <tr>\n",
       "      <th>D</th>\n",
       "      <td>0.188695</td>\n",
       "      <td>0.955057</td>\n",
       "    </tr>\n",
       "    <tr>\n",
       "      <th>E</th>\n",
       "      <td>0.190794</td>\n",
       "      <td>0.683509</td>\n",
       "    </tr>\n",
       "  </tbody>\n",
       "</table>\n",
       "</div>"
      ],
      "text/plain": [
       "          W         Z\n",
       "A  2.706850  0.503826\n",
       "B  0.651118  0.605965\n",
       "C -2.018168 -0.589001\n",
       "D  0.188695  0.955057\n",
       "E  0.190794  0.683509"
      ]
     },
     "execution_count": 28,
     "metadata": {},
     "output_type": "execute_result"
    }
   ],
   "source": [
    "df[['W','Z']]"
   ]
  },
  {
   "cell_type": "markdown",
   "id": "adcbf326",
   "metadata": {},
   "source": [
    "### CREATING NEW DATAFRAME COLUMNS  "
   ]
  },
  {
   "cell_type": "code",
   "execution_count": 29,
   "id": "0e29c216",
   "metadata": {},
   "outputs": [
    {
     "data": {
      "text/plain": [
       "A    3.334983\n",
       "B    0.331800\n",
       "C   -1.278046\n",
       "D   -0.570177\n",
       "E    2.169552\n",
       "Name: new, dtype: float64"
      ]
     },
     "execution_count": 29,
     "metadata": {},
     "output_type": "execute_result"
    }
   ],
   "source": [
    "df['new']=df['W']+df['X']\n",
    "df['new']"
   ]
  },
  {
   "cell_type": "markdown",
   "id": "c1a43c2e",
   "metadata": {},
   "source": [
    "### DROP COLUMNS"
   ]
  },
  {
   "cell_type": "code",
   "execution_count": 30,
   "id": "99159c9b",
   "metadata": {},
   "outputs": [],
   "source": [
    "# inplace=True means that the column will be deleted permanently\n",
    "# axis=1 represents vertical/columns while axis=0 represents indexes because the shape of numpy arrays consists of a tuple \n",
    "# whereby the element 0 represents number of rows ie.indexes in a dataframe while element 1 represents number of columns "
   ]
  },
  {
   "cell_type": "code",
   "execution_count": 31,
   "id": "29418058",
   "metadata": {},
   "outputs": [
    {
     "data": {
      "text/html": [
       "<div>\n",
       "<style scoped>\n",
       "    .dataframe tbody tr th:only-of-type {\n",
       "        vertical-align: middle;\n",
       "    }\n",
       "\n",
       "    .dataframe tbody tr th {\n",
       "        vertical-align: top;\n",
       "    }\n",
       "\n",
       "    .dataframe thead th {\n",
       "        text-align: right;\n",
       "    }\n",
       "</style>\n",
       "<table border=\"1\" class=\"dataframe\">\n",
       "  <thead>\n",
       "    <tr style=\"text-align: right;\">\n",
       "      <th></th>\n",
       "      <th>W</th>\n",
       "      <th>X</th>\n",
       "      <th>Y</th>\n",
       "      <th>Z</th>\n",
       "    </tr>\n",
       "  </thead>\n",
       "  <tbody>\n",
       "    <tr>\n",
       "      <th>A</th>\n",
       "      <td>2.706850</td>\n",
       "      <td>0.628133</td>\n",
       "      <td>0.907969</td>\n",
       "      <td>0.503826</td>\n",
       "    </tr>\n",
       "    <tr>\n",
       "      <th>B</th>\n",
       "      <td>0.651118</td>\n",
       "      <td>-0.319318</td>\n",
       "      <td>-0.848077</td>\n",
       "      <td>0.605965</td>\n",
       "    </tr>\n",
       "    <tr>\n",
       "      <th>C</th>\n",
       "      <td>-2.018168</td>\n",
       "      <td>0.740122</td>\n",
       "      <td>0.528813</td>\n",
       "      <td>-0.589001</td>\n",
       "    </tr>\n",
       "    <tr>\n",
       "      <th>D</th>\n",
       "      <td>0.188695</td>\n",
       "      <td>-0.758872</td>\n",
       "      <td>-0.933237</td>\n",
       "      <td>0.955057</td>\n",
       "    </tr>\n",
       "    <tr>\n",
       "      <th>E</th>\n",
       "      <td>0.190794</td>\n",
       "      <td>1.978757</td>\n",
       "      <td>2.605967</td>\n",
       "      <td>0.683509</td>\n",
       "    </tr>\n",
       "  </tbody>\n",
       "</table>\n",
       "</div>"
      ],
      "text/plain": [
       "          W         X         Y         Z\n",
       "A  2.706850  0.628133  0.907969  0.503826\n",
       "B  0.651118 -0.319318 -0.848077  0.605965\n",
       "C -2.018168  0.740122  0.528813 -0.589001\n",
       "D  0.188695 -0.758872 -0.933237  0.955057\n",
       "E  0.190794  1.978757  2.605967  0.683509"
      ]
     },
     "execution_count": 31,
     "metadata": {},
     "output_type": "execute_result"
    }
   ],
   "source": [
    "df.drop(\"new\",axis=1)"
   ]
  },
  {
   "cell_type": "code",
   "execution_count": 32,
   "id": "7237c0ce",
   "metadata": {},
   "outputs": [
    {
     "data": {
      "text/html": [
       "<div>\n",
       "<style scoped>\n",
       "    .dataframe tbody tr th:only-of-type {\n",
       "        vertical-align: middle;\n",
       "    }\n",
       "\n",
       "    .dataframe tbody tr th {\n",
       "        vertical-align: top;\n",
       "    }\n",
       "\n",
       "    .dataframe thead th {\n",
       "        text-align: right;\n",
       "    }\n",
       "</style>\n",
       "<table border=\"1\" class=\"dataframe\">\n",
       "  <thead>\n",
       "    <tr style=\"text-align: right;\">\n",
       "      <th></th>\n",
       "      <th>W</th>\n",
       "      <th>X</th>\n",
       "      <th>Y</th>\n",
       "      <th>Z</th>\n",
       "      <th>new</th>\n",
       "    </tr>\n",
       "  </thead>\n",
       "  <tbody>\n",
       "    <tr>\n",
       "      <th>A</th>\n",
       "      <td>2.706850</td>\n",
       "      <td>0.628133</td>\n",
       "      <td>0.907969</td>\n",
       "      <td>0.503826</td>\n",
       "      <td>3.334983</td>\n",
       "    </tr>\n",
       "    <tr>\n",
       "      <th>B</th>\n",
       "      <td>0.651118</td>\n",
       "      <td>-0.319318</td>\n",
       "      <td>-0.848077</td>\n",
       "      <td>0.605965</td>\n",
       "      <td>0.331800</td>\n",
       "    </tr>\n",
       "    <tr>\n",
       "      <th>C</th>\n",
       "      <td>-2.018168</td>\n",
       "      <td>0.740122</td>\n",
       "      <td>0.528813</td>\n",
       "      <td>-0.589001</td>\n",
       "      <td>-1.278046</td>\n",
       "    </tr>\n",
       "    <tr>\n",
       "      <th>D</th>\n",
       "      <td>0.188695</td>\n",
       "      <td>-0.758872</td>\n",
       "      <td>-0.933237</td>\n",
       "      <td>0.955057</td>\n",
       "      <td>-0.570177</td>\n",
       "    </tr>\n",
       "    <tr>\n",
       "      <th>E</th>\n",
       "      <td>0.190794</td>\n",
       "      <td>1.978757</td>\n",
       "      <td>2.605967</td>\n",
       "      <td>0.683509</td>\n",
       "      <td>2.169552</td>\n",
       "    </tr>\n",
       "  </tbody>\n",
       "</table>\n",
       "</div>"
      ],
      "text/plain": [
       "          W         X         Y         Z       new\n",
       "A  2.706850  0.628133  0.907969  0.503826  3.334983\n",
       "B  0.651118 -0.319318 -0.848077  0.605965  0.331800\n",
       "C -2.018168  0.740122  0.528813 -0.589001 -1.278046\n",
       "D  0.188695 -0.758872 -0.933237  0.955057 -0.570177\n",
       "E  0.190794  1.978757  2.605967  0.683509  2.169552"
      ]
     },
     "execution_count": 32,
     "metadata": {},
     "output_type": "execute_result"
    }
   ],
   "source": [
    "df"
   ]
  },
  {
   "cell_type": "code",
   "execution_count": 33,
   "id": "4280635c",
   "metadata": {},
   "outputs": [],
   "source": [
    "df.drop(\"new\",axis=1, inplace=True)"
   ]
  },
  {
   "cell_type": "code",
   "execution_count": 34,
   "id": "010b0b1c",
   "metadata": {},
   "outputs": [
    {
     "ename": "KeyError",
     "evalue": "[2.706849839399938, 0.6511179479432686, -2.018168244037392, 0.18869530944922425, 0.19079432237171562]",
     "output_type": "error",
     "traceback": [
      "\u001b[1;31m---------------------------------------------------------------------------\u001b[0m",
      "\u001b[1;31mKeyError\u001b[0m                                  Traceback (most recent call last)",
      "Input \u001b[1;32mIn [34]\u001b[0m, in \u001b[0;36m<cell line: 2>\u001b[1;34m()\u001b[0m\n\u001b[0;32m      1\u001b[0m \u001b[38;5;66;03m# Dropping empty values in a subset of a dataset\u001b[39;00m\n\u001b[1;32m----> 2\u001b[0m \u001b[43mdf\u001b[49m\u001b[38;5;241;43m.\u001b[39;49m\u001b[43mdropna\u001b[49m\u001b[43m(\u001b[49m\u001b[43msubset\u001b[49m\u001b[38;5;241;43m=\u001b[39;49m\u001b[43mdf\u001b[49m\u001b[43m[\u001b[49m\u001b[38;5;124;43m'\u001b[39;49m\u001b[38;5;124;43mW\u001b[39;49m\u001b[38;5;124;43m'\u001b[39;49m\u001b[43m]\u001b[49m\u001b[43m,\u001b[49m\u001b[43maxis\u001b[49m\u001b[38;5;241;43m=\u001b[39;49m\u001b[38;5;241;43m1\u001b[39;49m\u001b[43m)\u001b[49m\n",
      "File \u001b[1;32m~\\anaconda3\\lib\\site-packages\\pandas\\util\\_decorators.py:311\u001b[0m, in \u001b[0;36mdeprecate_nonkeyword_arguments.<locals>.decorate.<locals>.wrapper\u001b[1;34m(*args, **kwargs)\u001b[0m\n\u001b[0;32m    305\u001b[0m \u001b[38;5;28;01mif\u001b[39;00m \u001b[38;5;28mlen\u001b[39m(args) \u001b[38;5;241m>\u001b[39m num_allow_args:\n\u001b[0;32m    306\u001b[0m     warnings\u001b[38;5;241m.\u001b[39mwarn(\n\u001b[0;32m    307\u001b[0m         msg\u001b[38;5;241m.\u001b[39mformat(arguments\u001b[38;5;241m=\u001b[39marguments),\n\u001b[0;32m    308\u001b[0m         \u001b[38;5;167;01mFutureWarning\u001b[39;00m,\n\u001b[0;32m    309\u001b[0m         stacklevel\u001b[38;5;241m=\u001b[39mstacklevel,\n\u001b[0;32m    310\u001b[0m     )\n\u001b[1;32m--> 311\u001b[0m \u001b[38;5;28;01mreturn\u001b[39;00m func(\u001b[38;5;241m*\u001b[39margs, \u001b[38;5;241m*\u001b[39m\u001b[38;5;241m*\u001b[39mkwargs)\n",
      "File \u001b[1;32m~\\anaconda3\\lib\\site-packages\\pandas\\core\\frame.py:6002\u001b[0m, in \u001b[0;36mDataFrame.dropna\u001b[1;34m(self, axis, how, thresh, subset, inplace)\u001b[0m\n\u001b[0;32m   6000\u001b[0m     check \u001b[38;5;241m=\u001b[39m indices \u001b[38;5;241m==\u001b[39m \u001b[38;5;241m-\u001b[39m\u001b[38;5;241m1\u001b[39m\n\u001b[0;32m   6001\u001b[0m     \u001b[38;5;28;01mif\u001b[39;00m check\u001b[38;5;241m.\u001b[39many():\n\u001b[1;32m-> 6002\u001b[0m         \u001b[38;5;28;01mraise\u001b[39;00m \u001b[38;5;167;01mKeyError\u001b[39;00m(np\u001b[38;5;241m.\u001b[39marray(subset)[check]\u001b[38;5;241m.\u001b[39mtolist())\n\u001b[0;32m   6003\u001b[0m     agg_obj \u001b[38;5;241m=\u001b[39m \u001b[38;5;28mself\u001b[39m\u001b[38;5;241m.\u001b[39mtake(indices, axis\u001b[38;5;241m=\u001b[39magg_axis)\n\u001b[0;32m   6005\u001b[0m \u001b[38;5;28;01mif\u001b[39;00m thresh \u001b[38;5;129;01mis\u001b[39;00m \u001b[38;5;129;01mnot\u001b[39;00m \u001b[38;5;28;01mNone\u001b[39;00m:\n",
      "\u001b[1;31mKeyError\u001b[0m: [2.706849839399938, 0.6511179479432686, -2.018168244037392, 0.18869530944922425, 0.19079432237171562]"
     ]
    }
   ],
   "source": [
    "# Dropping empty values in a subset of a dataset\n",
    "df.dropna(subset=df['W'],axis=1)"
   ]
  },
  {
   "cell_type": "code",
   "execution_count": null,
   "id": "a1c51b40",
   "metadata": {},
   "outputs": [],
   "source": [
    "df"
   ]
  },
  {
   "cell_type": "code",
   "execution_count": null,
   "id": "eb55d8ac",
   "metadata": {},
   "outputs": [],
   "source": [
    "df.shape"
   ]
  },
  {
   "cell_type": "markdown",
   "id": "1e9a2cbc",
   "metadata": {},
   "source": [
    "### ACCESSING DATAFRAME ROWS"
   ]
  },
  {
   "cell_type": "code",
   "execution_count": null,
   "id": "a1ebe051",
   "metadata": {},
   "outputs": [],
   "source": [
    "# Two methods are used for this: loc and iloc(index location)\n",
    "# iloc is numerical based while loc is label based "
   ]
  },
  {
   "cell_type": "code",
   "execution_count": null,
   "id": "0fc43932",
   "metadata": {
    "scrolled": true
   },
   "outputs": [],
   "source": [
    "df.loc['A']"
   ]
  },
  {
   "cell_type": "code",
   "execution_count": null,
   "id": "005ca643",
   "metadata": {},
   "outputs": [],
   "source": []
  },
  {
   "cell_type": "code",
   "execution_count": null,
   "id": "05726a28",
   "metadata": {},
   "outputs": [],
   "source": [
    "df.loc[['A','B']]"
   ]
  },
  {
   "cell_type": "code",
   "execution_count": null,
   "id": "1a00694a",
   "metadata": {},
   "outputs": [],
   "source": [
    "df.iloc[2]\n",
    "# Accesses row C"
   ]
  },
  {
   "cell_type": "markdown",
   "id": "cca1ca7e",
   "metadata": {},
   "source": [
    "### SELECTING SUBSET OF  ROWS AND COLUMNS"
   ]
  },
  {
   "cell_type": "code",
   "execution_count": null,
   "id": "51e0787f",
   "metadata": {},
   "outputs": [],
   "source": [
    "df.loc['A','Z']"
   ]
  },
  {
   "cell_type": "code",
   "execution_count": null,
   "id": "699b760b",
   "metadata": {},
   "outputs": [],
   "source": [
    "df.iloc[2,2]\n",
    "# Selects value in index C and column Y"
   ]
  },
  {
   "cell_type": "code",
   "execution_count": null,
   "id": "de64ccbf",
   "metadata": {},
   "outputs": [],
   "source": [
    "df.loc[['A','B'],['W','Y']]"
   ]
  },
  {
   "cell_type": "markdown",
   "id": "20e855fc",
   "metadata": {},
   "source": [
    "### CONDITIONAL SELECTION "
   ]
  },
  {
   "cell_type": "code",
   "execution_count": null,
   "id": "fd9e891e",
   "metadata": {},
   "outputs": [],
   "source": [
    "df>0"
   ]
  },
  {
   "cell_type": "code",
   "execution_count": null,
   "id": "31d94f14",
   "metadata": {},
   "outputs": [],
   "source": [
    "df[df>0]"
   ]
  },
  {
   "cell_type": "code",
   "execution_count": null,
   "id": "877b0ccc",
   "metadata": {},
   "outputs": [],
   "source": [
    "df['W']"
   ]
  },
  {
   "cell_type": "code",
   "execution_count": null,
   "id": "19045486",
   "metadata": {
    "scrolled": true
   },
   "outputs": [],
   "source": [
    "df['W']>0"
   ]
  },
  {
   "cell_type": "code",
   "execution_count": null,
   "id": "1382f2c6",
   "metadata": {},
   "outputs": [],
   "source": [
    "df[df['W']>0]"
   ]
  },
  {
   "cell_type": "code",
   "execution_count": null,
   "id": "646994f0",
   "metadata": {
    "scrolled": true
   },
   "outputs": [],
   "source": [
    "df[df['Z']<0]"
   ]
  },
  {
   "cell_type": "code",
   "execution_count": null,
   "id": "01b7ea9a",
   "metadata": {},
   "outputs": [],
   "source": [
    "df[df['Z']>0]['X']\n",
    "# The above code is similar to the following code below"
   ]
  },
  {
   "cell_type": "code",
   "execution_count": null,
   "id": "3d4a6982",
   "metadata": {},
   "outputs": [],
   "source": [
    "resultdf=df[df['Z']>0]\n",
    "resultdf"
   ]
  },
  {
   "cell_type": "code",
   "execution_count": null,
   "id": "81aca67f",
   "metadata": {},
   "outputs": [],
   "source": [
    "resultdf['X']"
   ]
  },
  {
   "cell_type": "code",
   "execution_count": null,
   "id": "b4702f5a",
   "metadata": {},
   "outputs": [],
   "source": [
    "df[df['Z']>0][['X','Y']]"
   ]
  },
  {
   "cell_type": "code",
   "execution_count": null,
   "id": "fcbfcbfd",
   "metadata": {},
   "outputs": [],
   "source": [
    "df[(df['Z']>0) & (df['Y']<0)]"
   ]
  },
  {
   "cell_type": "code",
   "execution_count": null,
   "id": "80030ae8",
   "metadata": {},
   "outputs": [],
   "source": [
    "df[(df['Z']>0) | (df['Y']<0)]"
   ]
  },
  {
   "cell_type": "markdown",
   "id": "176306db",
   "metadata": {},
   "source": [
    "### RESET INDEX TO NUMERICAL"
   ]
  },
  {
   "cell_type": "code",
   "execution_count": null,
   "id": "86d50427",
   "metadata": {},
   "outputs": [],
   "source": [
    "# If you want the reset index method to affect the original dataframe\n",
    "# include inplace=True"
   ]
  },
  {
   "cell_type": "code",
   "execution_count": null,
   "id": "dcddd7f4",
   "metadata": {
    "scrolled": true
   },
   "outputs": [],
   "source": [
    "df.reset_index()"
   ]
  },
  {
   "cell_type": "markdown",
   "id": "22bec5f4",
   "metadata": {},
   "source": [
    "### SET INDEX WITH AN EXISTING COLUMN"
   ]
  },
  {
   "cell_type": "code",
   "execution_count": null,
   "id": "6b952dda",
   "metadata": {},
   "outputs": [],
   "source": [
    "# If you want the set index method to affect the original dataframe\n",
    "# include inplace=True"
   ]
  },
  {
   "cell_type": "code",
   "execution_count": null,
   "id": "2c4dc7db",
   "metadata": {},
   "outputs": [],
   "source": [
    "newind= 'CA NY WY OR CO'.split()\n",
    "newind"
   ]
  },
  {
   "cell_type": "code",
   "execution_count": null,
   "id": "6a4009bb",
   "metadata": {},
   "outputs": [],
   "source": [
    "df['States']=newind\n",
    "df"
   ]
  },
  {
   "cell_type": "code",
   "execution_count": null,
   "id": "dd016785",
   "metadata": {
    "scrolled": true
   },
   "outputs": [],
   "source": [
    "df.set_index('States')"
   ]
  },
  {
   "cell_type": "markdown",
   "id": "5ae7a73b",
   "metadata": {},
   "source": [
    "### HIERACHICAL INDEXING"
   ]
  },
  {
   "cell_type": "code",
   "execution_count": null,
   "id": "204cdee3",
   "metadata": {},
   "outputs": [],
   "source": [
    "outside=['G1','G1','G1','G2','G2','G2']\n",
    "inside=[1,2,3,1,2,3]\n",
    "hier_index=tuple(zip(outside,inside))\n",
    "hier_index"
   ]
  },
  {
   "cell_type": "code",
   "execution_count": null,
   "id": "c9bfe464",
   "metadata": {},
   "outputs": [],
   "source": [
    "hier_index2=pd.MultiIndex.from_tuples(hier_index)\n"
   ]
  },
  {
   "cell_type": "code",
   "execution_count": null,
   "id": "63c19ed8",
   "metadata": {},
   "outputs": [],
   "source": [
    "hier_index2"
   ]
  },
  {
   "cell_type": "code",
   "execution_count": null,
   "id": "e59de2b0",
   "metadata": {},
   "outputs": [],
   "source": [
    "df=pd.DataFrame(randn(6,2),hier_index,['A','B'])\n",
    "df"
   ]
  },
  {
   "cell_type": "markdown",
   "id": "0278daf2",
   "metadata": {},
   "source": [
    "### ACCESSING ELEMENTS"
   ]
  },
  {
   "cell_type": "code",
   "execution_count": null,
   "id": "9ddde6a0",
   "metadata": {},
   "outputs": [],
   "source": [
    "# To access elements from a hierachical index requires one to start form the outside index to the inside"
   ]
  },
  {
   "cell_type": "code",
   "execution_count": null,
   "id": "339c9a72",
   "metadata": {
    "scrolled": true
   },
   "outputs": [],
   "source": [
    "df.loc['G1']"
   ]
  },
  {
   "cell_type": "code",
   "execution_count": null,
   "id": "5709db98",
   "metadata": {},
   "outputs": [],
   "source": [
    "df.loc['G1'].loc[1]"
   ]
  },
  {
   "cell_type": "code",
   "execution_count": null,
   "id": "38047b74",
   "metadata": {},
   "outputs": [],
   "source": [
    "df.index.names"
   ]
  },
  {
   "cell_type": "code",
   "execution_count": null,
   "id": "b5afc7ad",
   "metadata": {},
   "outputs": [],
   "source": [
    "df.index.names=['Groups','Num']\n",
    "df"
   ]
  },
  {
   "cell_type": "code",
   "execution_count": null,
   "id": "072ae569",
   "metadata": {},
   "outputs": [],
   "source": [
    "df.loc['G2'].loc[2]['B']"
   ]
  },
  {
   "cell_type": "markdown",
   "id": "c493f8c1",
   "metadata": {},
   "source": [
    "### CROSSECTION"
   ]
  },
  {
   "cell_type": "code",
   "execution_count": null,
   "id": "a1f6fb2d",
   "metadata": {
    "scrolled": true
   },
   "outputs": [],
   "source": [
    "df.xs('G1')\n",
    "# Similar to df.loc['G1']"
   ]
  },
  {
   "cell_type": "code",
   "execution_count": null,
   "id": "a4bfee30",
   "metadata": {},
   "outputs": [],
   "source": [
    " df.loc['G1']"
   ]
  },
  {
   "cell_type": "code",
   "execution_count": null,
   "id": "d874f412",
   "metadata": {
    "scrolled": true
   },
   "outputs": [],
   "source": [
    "df.xs(1,level='Num')"
   ]
  },
  {
   "cell_type": "markdown",
   "id": "dec35b64",
   "metadata": {},
   "source": [
    "## MISSING DATA"
   ]
  },
  {
   "cell_type": "code",
   "execution_count": null,
   "id": "5a0a6b95",
   "metadata": {},
   "outputs": [],
   "source": [
    "d={'A':[1,2,np.nan],'B':[5,np.nan,np.nan], 'C':[1,2,3]}"
   ]
  },
  {
   "cell_type": "code",
   "execution_count": null,
   "id": "b3587f86",
   "metadata": {},
   "outputs": [],
   "source": [
    "df= pd.DataFrame(d)\n",
    "df"
   ]
  },
  {
   "cell_type": "code",
   "execution_count": null,
   "id": "e338133e",
   "metadata": {},
   "outputs": [],
   "source": [
    "df.isnull()\n",
    "# Shows a boolean table whereby if it is True then it is null"
   ]
  },
  {
   "cell_type": "code",
   "execution_count": null,
   "id": "0f460618",
   "metadata": {},
   "outputs": [],
   "source": [
    "df.isna()"
   ]
  },
  {
   "cell_type": "code",
   "execution_count": null,
   "id": "5b6c6d2d",
   "metadata": {},
   "outputs": [],
   "source": [
    "df.isna().sum()\n",
    "# Similar to df.isnull().sum()"
   ]
  },
  {
   "cell_type": "code",
   "execution_count": null,
   "id": "145f6362",
   "metadata": {},
   "outputs": [],
   "source": [
    "df.dropna()\n",
    "# Drops any row with any missing value since by default axis=0"
   ]
  },
  {
   "cell_type": "code",
   "execution_count": null,
   "id": "2c99c6fb",
   "metadata": {},
   "outputs": [],
   "source": [
    "df.dropna(axis=1)\n",
    "# Drops any column with any missing value"
   ]
  },
  {
   "cell_type": "code",
   "execution_count": null,
   "id": "aedd9104",
   "metadata": {},
   "outputs": [],
   "source": [
    "df.dropna(thresh=2)\n",
    "# thresh=2 means that during dropping the row with 2 non missing values will be retained"
   ]
  },
  {
   "cell_type": "code",
   "execution_count": null,
   "id": "3ef5a279",
   "metadata": {
    "scrolled": true
   },
   "outputs": [],
   "source": [
    "df.fillna('New')\n",
    "# fillna is used in replacing the missing values with a certain value"
   ]
  },
  {
   "cell_type": "code",
   "execution_count": null,
   "id": "e2d1aa97",
   "metadata": {},
   "outputs": [],
   "source": [
    "df.fillna(value='New')"
   ]
  },
  {
   "cell_type": "code",
   "execution_count": null,
   "id": "b427f2fa",
   "metadata": {},
   "outputs": [],
   "source": [
    "df.fillna(df.mean())"
   ]
  },
  {
   "cell_type": "code",
   "execution_count": null,
   "id": "7adc3226",
   "metadata": {},
   "outputs": [],
   "source": [
    "df['A'].fillna(df['A'].mean())"
   ]
  },
  {
   "cell_type": "markdown",
   "id": "050c1104",
   "metadata": {},
   "source": [
    "## GROUP BY"
   ]
  },
  {
   "cell_type": "code",
   "execution_count": null,
   "id": "4c282872",
   "metadata": {},
   "outputs": [],
   "source": [
    "# Group by allows you to group together rows based off of a column and perform an aggregate function on them"
   ]
  },
  {
   "cell_type": "code",
   "execution_count": null,
   "id": "bfaaf2f6",
   "metadata": {},
   "outputs": [],
   "source": [
    "data={'Company': ['Google','Microsoft','Facebook','Google','Microsoft','Facebook'],\n",
    " 'Person': ['Sam', 'Charle', 'Amy', 'victor', 'Joe', 'Kelvin'],\n",
    " 'Sales': [200, 120, 300, 200, 600, 800]}"
   ]
  },
  {
   "cell_type": "code",
   "execution_count": null,
   "id": "af29860e",
   "metadata": {},
   "outputs": [],
   "source": [
    "df=pd.DataFrame(data)\n",
    "df"
   ]
  },
  {
   "cell_type": "code",
   "execution_count": null,
   "id": "53a5ad63",
   "metadata": {},
   "outputs": [],
   "source": [
    "df.groupby('Company').mean()"
   ]
  },
  {
   "cell_type": "code",
   "execution_count": null,
   "id": "e874b97a",
   "metadata": {},
   "outputs": [],
   "source": [
    "df.groupby('Person').max()"
   ]
  },
  {
   "cell_type": "code",
   "execution_count": null,
   "id": "9d6632af",
   "metadata": {},
   "outputs": [],
   "source": [
    "df.describe()"
   ]
  },
  {
   "cell_type": "code",
   "execution_count": null,
   "id": "8668fb97",
   "metadata": {},
   "outputs": [],
   "source": [
    "df.groupby('Company').std()"
   ]
  },
  {
   "cell_type": "code",
   "execution_count": null,
   "id": "386c8972",
   "metadata": {},
   "outputs": [],
   "source": [
    "df.groupby('Company').sum()"
   ]
  },
  {
   "cell_type": "code",
   "execution_count": null,
   "id": "a31c1ac8",
   "metadata": {},
   "outputs": [],
   "source": [
    "df.groupby('Company').sum().loc['Facebook']"
   ]
  },
  {
   "cell_type": "code",
   "execution_count": null,
   "id": "80502610",
   "metadata": {},
   "outputs": [],
   "source": [
    "df.groupby('Company').count()"
   ]
  },
  {
   "cell_type": "code",
   "execution_count": null,
   "id": "3898b089",
   "metadata": {},
   "outputs": [],
   "source": [
    "df.groupby('Company').max()"
   ]
  },
  {
   "cell_type": "code",
   "execution_count": null,
   "id": "2566c3a7",
   "metadata": {},
   "outputs": [],
   "source": [
    "df.groupby('Company').describe()"
   ]
  },
  {
   "cell_type": "code",
   "execution_count": null,
   "id": "2735a8c4",
   "metadata": {},
   "outputs": [],
   "source": [
    "df.groupby('Company').describe().transpose()"
   ]
  },
  {
   "cell_type": "code",
   "execution_count": null,
   "id": "dae5d460",
   "metadata": {},
   "outputs": [],
   "source": [
    "df.groupby('Company').describe().transpose()['Facebook']"
   ]
  },
  {
   "cell_type": "code",
   "execution_count": null,
   "id": "299c52ee",
   "metadata": {},
   "outputs": [],
   "source": [
    "df.sort_values(by='Sales')"
   ]
  },
  {
   "cell_type": "code",
   "execution_count": null,
   "id": "ffd8c6be",
   "metadata": {},
   "outputs": [],
   "source": [
    "df['Company'].unique()"
   ]
  },
  {
   "cell_type": "code",
   "execution_count": null,
   "id": "d92ea00f",
   "metadata": {},
   "outputs": [],
   "source": [
    "df.pivot_table(values='Sales',index=['Company'],columns=['Person'])"
   ]
  },
  {
   "cell_type": "markdown",
   "id": "9d51ec55",
   "metadata": {},
   "source": [
    "## MERGE JOIN CONCATENATING"
   ]
  },
  {
   "cell_type": "markdown",
   "id": "35806641",
   "metadata": {},
   "source": [
    "Concatenation basically glues together dataframes. \n",
    "Keep in mind the dimensions should match along the axis you are concatenating on "
   ]
  },
  {
   "cell_type": "code",
   "execution_count": null,
   "id": "22e00dcf",
   "metadata": {},
   "outputs": [],
   "source": [
    "df1=pd.DataFrame(index=[1,2,3,4,5,6],data={'Company': ['Google',\n",
    "  'Microsoft',\n",
    "  'Facebook',\n",
    "  'Google',\n",
    "  'Microsoft',\n",
    "  'Facebook'],\n",
    " 'Person': ['Sam', 'Charle', 'Amy', 'victor', 'Joe', 'Kelvin'],\n",
    " 'Sales': [200, 120, 300, 200, 600, 800]})\n",
    "df2=pd.DataFrame(index=[7,8,9,10,11,12],data={'Company': ['Google',\n",
    "  'Microsoft',\n",
    "  'Facebook',\n",
    "  'Google',\n",
    "  'Microsoft',\n",
    "  'Facebook'],\n",
    " 'Person': ['victor', 'Joe', 'Kelvin','Sam', 'Charle', 'Amy' ],\n",
    " 'Sales': [200, 120, 300, 450, 600, 800]})"
   ]
  },
  {
   "cell_type": "code",
   "execution_count": null,
   "id": "5705de70",
   "metadata": {},
   "outputs": [],
   "source": [
    "pd.concat([df1,df2])"
   ]
  },
  {
   "cell_type": "code",
   "execution_count": null,
   "id": "5404fb1c",
   "metadata": {},
   "outputs": [],
   "source": [
    "pd.concat([df1,df2], axis=1)"
   ]
  },
  {
   "cell_type": "code",
   "execution_count": null,
   "id": "a3da6536",
   "metadata": {},
   "outputs": [],
   "source": [
    "df1=pd.DataFrame({'Company': ['Google',\n",
    "  'Microsoft',\n",
    "  'Facebook',\n",
    "  'Google',\n",
    "  'Microsoft',\n",
    "  'Facebook'],\n",
    " 'Person': ['Sam', 'Charle', 'Amy', 'victor', 'Joe', 'Kelvin'],\n",
    " 'Sales': [200, 120, 300, 400, 600, 800]})\n",
    "df2=pd.DataFrame({'Company': ['Google',\n",
    "  'Microsoft',\n",
    "  'Facebook',\n",
    "  'Google',\n",
    "  'Microsoft',\n",
    "  'Facebook'],\n",
    " 'Person': ['victor', 'Joe', 'Kelvin','Sam', 'Charle', 'Amy' ],\n",
    " 'Sales': [200, 120, 300, 450, 600, 800]})"
   ]
  },
  {
   "cell_type": "code",
   "execution_count": null,
   "id": "6ba4e4ad",
   "metadata": {
    "scrolled": true
   },
   "outputs": [],
   "source": [
    "pd.concat([df1,df2], axis=1)"
   ]
  },
  {
   "cell_type": "markdown",
   "id": "8d93bfca",
   "metadata": {},
   "source": [
    "MERGE"
   ]
  },
  {
   "cell_type": "code",
   "execution_count": null,
   "id": "8aea827a",
   "metadata": {},
   "outputs": [],
   "source": [
    "\n",
    "left=pd.DataFrame({'Key1': ['K0','K1','K2','K3'],\n",
    " 'A': ['A0','A1','A2','A3'],\n",
    " 'B': ['B0','B1','B2','B3']})\n",
    "right=pd.DataFrame({'Key1': ['K0','K1','K2','K3'],\n",
    " 'C': ['C0','C1','C2','C3'],\n",
    " 'D': ['D0','D1','D2','D3']})\n",
    "left"
   ]
  },
  {
   "cell_type": "code",
   "execution_count": null,
   "id": "4692a8fd",
   "metadata": {},
   "outputs": [],
   "source": [
    "right"
   ]
  },
  {
   "cell_type": "code",
   "execution_count": null,
   "id": "531c7a99",
   "metadata": {},
   "outputs": [],
   "source": [
    "pd.merge(left,right)"
   ]
  },
  {
   "cell_type": "code",
   "execution_count": null,
   "id": "971285af",
   "metadata": {},
   "outputs": [],
   "source": [
    "left=pd.DataFrame({'Key1': ['K0','K0','K1','K2'],\n",
    " 'Key2': ['K0','K1','K0','K1'],\n",
    " 'A': ['A0','A1','A2','A3'],\n",
    " 'B': ['B0','B1','B2','B3']})\n",
    "right=pd.DataFrame({'Key1': ['K0','K1','K1','K2'],\n",
    " 'Key2': ['K0','K0','K0','K0'],\n",
    " 'C': ['C0','C1','C2','C3'],\n",
    " 'D': ['D0','D1','D2','D3']})"
   ]
  },
  {
   "cell_type": "code",
   "execution_count": null,
   "id": "447acc8c",
   "metadata": {},
   "outputs": [],
   "source": [
    "pd.merge(left,right)\n",
    "# By default the type of merge is inner"
   ]
  },
  {
   "cell_type": "code",
   "execution_count": null,
   "id": "09360385",
   "metadata": {},
   "outputs": [],
   "source": [
    "pd.merge(left,right,on=['Key1','Key2'])\n",
    "# the 2 dataframes are merged based on Key1 and Key2 columns"
   ]
  },
  {
   "cell_type": "code",
   "execution_count": null,
   "id": "dcb47d6c",
   "metadata": {},
   "outputs": [],
   "source": [
    "pd.merge(left,right,how='outer',on=['Key1','Key2'])"
   ]
  },
  {
   "cell_type": "code",
   "execution_count": null,
   "id": "b1513e22",
   "metadata": {},
   "outputs": [],
   "source": [
    "pd.merge(left,right, how='right',on=['Key1','Key2'])"
   ]
  },
  {
   "cell_type": "code",
   "execution_count": null,
   "id": "b51fbc6b",
   "metadata": {},
   "outputs": [],
   "source": [
    "pd.merge(left,right,how='left',on=['Key1','Key2'])"
   ]
  },
  {
   "cell_type": "markdown",
   "id": "ac82c9e7",
   "metadata": {},
   "source": [
    "JOIN"
   ]
  },
  {
   "cell_type": "markdown",
   "id": "9b676495",
   "metadata": {},
   "source": [
    "Joining is a convenient method of combining 2 potentially indexed dataframes into a single result dataframe\n",
    "It is similar to merge but the difference is that in this the index is used in merging"
   ]
  },
  {
   "cell_type": "code",
   "execution_count": null,
   "id": "ee2d399c",
   "metadata": {},
   "outputs": [],
   "source": [
    "left=pd.DataFrame({\n",
    " 'A': ['A0','A1','A2'],\n",
    " 'B': ['B0','B1','B2']}, index=['K0','K1','K2'])\n",
    "right=pd.DataFrame({\n",
    " 'C': ['C0','C2','C3'],\n",
    " 'D': ['D0','D2','D3']},\n",
    "index=['K0','K2','K3'])"
   ]
  },
  {
   "cell_type": "code",
   "execution_count": null,
   "id": "8dd81d02",
   "metadata": {},
   "outputs": [],
   "source": [
    "left.join(right)\n",
    "# By default the type of join is inner"
   ]
  },
  {
   "cell_type": "code",
   "execution_count": null,
   "id": "b7a69128",
   "metadata": {},
   "outputs": [],
   "source": [
    "left.join(right, how='right')"
   ]
  },
  {
   "cell_type": "code",
   "execution_count": null,
   "id": "d5c0fa26",
   "metadata": {},
   "outputs": [],
   "source": [
    "left.join(right, how='left')"
   ]
  },
  {
   "cell_type": "code",
   "execution_count": null,
   "id": "8a010538",
   "metadata": {
    "scrolled": true
   },
   "outputs": [],
   "source": [
    "left.join(right, how='outer')"
   ]
  },
  {
   "cell_type": "markdown",
   "id": "6ab517b2",
   "metadata": {},
   "source": [
    "## ADDITION OPERATIONS"
   ]
  },
  {
   "cell_type": "code",
   "execution_count": null,
   "id": "5a3c82dd",
   "metadata": {},
   "outputs": [],
   "source": [
    "data={'Company': ['Google','Microsoft','Facebook','Google','Microsoft','Facebook'],\n",
    " 'Person': ['Sam', 'Charle', 'Amy', 'victor', 'Joe', 'Kelvin'],\n",
    " 'Sales': [200, 120, 300, 200, 600, 800]}"
   ]
  },
  {
   "cell_type": "code",
   "execution_count": null,
   "id": "a6bc57b3",
   "metadata": {
    "scrolled": false
   },
   "outputs": [],
   "source": [
    "df=pd.DataFrame(data)\n",
    "df"
   ]
  },
  {
   "cell_type": "code",
   "execution_count": null,
   "id": "2c3cc3d9",
   "metadata": {},
   "outputs": [],
   "source": [
    "df.index"
   ]
  },
  {
   "cell_type": "code",
   "execution_count": null,
   "id": "bf1eabc4",
   "metadata": {
    "scrolled": true
   },
   "outputs": [],
   "source": [
    "groupx=df.groupby('Sales')\n",
    "groupx.size()"
   ]
  },
  {
   "cell_type": "code",
   "execution_count": null,
   "id": "cb11a033",
   "metadata": {},
   "outputs": [],
   "source": [
    "groupx.get_group(200)\n",
    "# Obtaining the group with sales 200"
   ]
  },
  {
   "cell_type": "code",
   "execution_count": null,
   "id": "c636c7c3",
   "metadata": {},
   "outputs": [],
   "source": [
    "df['Company'].unique()\n",
    "# unique() returns the unique values of a column"
   ]
  },
  {
   "cell_type": "code",
   "execution_count": null,
   "id": "d3c821b7",
   "metadata": {},
   "outputs": [],
   "source": [
    "df['Company'].nunique()\n",
    "# nunique returns the number of unique values"
   ]
  },
  {
   "cell_type": "code",
   "execution_count": null,
   "id": "9635b5ab",
   "metadata": {},
   "outputs": [],
   "source": [
    "df.head(5)"
   ]
  },
  {
   "cell_type": "code",
   "execution_count": null,
   "id": "ea122e9f",
   "metadata": {},
   "outputs": [],
   "source": [
    "df['Company'].value_counts()\n",
    "# Return the unique values in a column and the number of times they appear"
   ]
  },
  {
   "cell_type": "code",
   "execution_count": null,
   "id": "1d766765",
   "metadata": {},
   "outputs": [],
   "source": [
    "def times2(x):\n",
    "    return x*2\n"
   ]
  },
  {
   "cell_type": "code",
   "execution_count": null,
   "id": "bd586d8b",
   "metadata": {},
   "outputs": [],
   "source": [
    "df['Sales'].apply(times2)\n",
    "# Similar to the following"
   ]
  },
  {
   "cell_type": "code",
   "execution_count": null,
   "id": "586ee935",
   "metadata": {},
   "outputs": [],
   "source": [
    "df['Sales'].apply(lambda x:x*2)"
   ]
  },
  {
   "cell_type": "code",
   "execution_count": null,
   "id": "8a570c1c",
   "metadata": {},
   "outputs": [],
   "source": [
    "df['Company'].apply(len)\n",
    "#len calculates length of strings in a column"
   ]
  },
  {
   "cell_type": "code",
   "execution_count": null,
   "id": "130a4957",
   "metadata": {},
   "outputs": [],
   "source": [
    "df"
   ]
  },
  {
   "cell_type": "code",
   "execution_count": null,
   "id": "42095b85",
   "metadata": {},
   "outputs": [],
   "source": [
    "df.columns"
   ]
  },
  {
   "cell_type": "code",
   "execution_count": null,
   "id": "8a6a1a43",
   "metadata": {},
   "outputs": [],
   "source": [
    "df.index"
   ]
  },
  {
   "cell_type": "code",
   "execution_count": null,
   "id": "e5be46d1",
   "metadata": {},
   "outputs": [],
   "source": [
    "df.sort_values('Company')\n",
    "# Sorting values by a specific column"
   ]
  },
  {
   "cell_type": "code",
   "execution_count": null,
   "id": "48b857cd",
   "metadata": {},
   "outputs": [],
   "source": [
    "df.sort_values('Sales')"
   ]
  },
  {
   "cell_type": "code",
   "execution_count": null,
   "id": "01ee77c1",
   "metadata": {},
   "outputs": [],
   "source": [
    "df.pivot_table(values='Sales',index='Person',columns='Company')"
   ]
  },
  {
   "cell_type": "code",
   "execution_count": null,
   "id": "09d158f8",
   "metadata": {},
   "outputs": [],
   "source": [
    "df.pivot_table(values='Sales',index='Company',columns='Person')"
   ]
  },
  {
   "cell_type": "markdown",
   "id": "6dc2f3e7",
   "metadata": {},
   "source": [
    "## DATA INPUT AND OUTPUT"
   ]
  },
  {
   "cell_type": "markdown",
   "id": "116b50ed",
   "metadata": {},
   "source": [
    "Pandas has the ability to read csv,excel,html,sql files and more\n",
    "In order to read html and sql files one has to install the following:\n",
    "\n",
    "    conda install sqlalchemy\n",
    "    \n",
    "    conda install lxml\n",
    "    \n",
    "    conda install html5lib\n",
    "    \n",
    "    conda install BeautifulSoup4"
   ]
  },
  {
   "cell_type": "code",
   "execution_count": null,
   "id": "5167cf98",
   "metadata": {
    "scrolled": true
   },
   "outputs": [],
   "source": [
    "df=pd.read_csv('C:/Users/VICKFURY/Documents/projects/Python Scripts/ml/datasets/Movie_Id_Titles')\n",
    "df"
   ]
  },
  {
   "cell_type": "code",
   "execution_count": null,
   "id": "6a838550",
   "metadata": {},
   "outputs": [],
   "source": [
    "pd.read_csv('C:/Users/VICKFURY/Documents/projects/Python Scripts/ml/datasets/Movie_Id_Titles',skiprows=1)\n",
    "# Skips the first rows"
   ]
  },
  {
   "cell_type": "code",
   "execution_count": null,
   "id": "03e15a76",
   "metadata": {},
   "outputs": [],
   "source": [
    "df.count()"
   ]
  },
  {
   "cell_type": "code",
   "execution_count": null,
   "id": "e7bb688b",
   "metadata": {
    "scrolled": true
   },
   "outputs": [],
   "source": [
    "pwd"
   ]
  },
  {
   "cell_type": "code",
   "execution_count": null,
   "id": "b88cb2d2",
   "metadata": {},
   "outputs": [],
   "source": [
    "df.index"
   ]
  },
  {
   "cell_type": "code",
   "execution_count": null,
   "id": "3b16a23d",
   "metadata": {},
   "outputs": [],
   "source": [
    "df.to_csv('Output',index=False)#Write the output in a csv file named output\n",
    "# index=False must be there to prevent an unnamed index column from forming in the file\n",
    "pd.read_csv('Output')"
   ]
  },
  {
   "cell_type": "code",
   "execution_count": null,
   "id": "f7ae3b97",
   "metadata": {},
   "outputs": [],
   "source": [
    "pd.read_excel('flie path',sheetname='Sheet1')"
   ]
  },
  {
   "cell_type": "code",
   "execution_count": null,
   "id": "0dd05a51",
   "metadata": {},
   "outputs": [],
   "source": [
    "df.to_excel('Excelsample1.xlsx',sheet_name='NewSheet')"
   ]
  },
  {
   "cell_type": "code",
   "execution_count": null,
   "id": "0dc102c2",
   "metadata": {},
   "outputs": [],
   "source": [
    "data= pd.read_html('html link')\n",
    "# Looks for tables"
   ]
  },
  {
   "cell_type": "code",
   "execution_count": null,
   "id": "128d5a53",
   "metadata": {},
   "outputs": [],
   "source": [
    "type(data)"
   ]
  },
  {
   "cell_type": "code",
   "execution_count": null,
   "id": "8db0d291",
   "metadata": {},
   "outputs": [],
   "source": [
    "# In orderto read to sql there must be a specific engine for the db because there is Mysql, Postgresql and many more with\n",
    "# different engines\n",
    "from sqlalchemy import create_engine\n",
    "engine=create_engine('sqlite:///:memory:')\n"
   ]
  },
  {
   "cell_type": "code",
   "execution_count": null,
   "id": "2af9d214",
   "metadata": {},
   "outputs": [],
   "source": [
    "df.to_sql('sqltable',engine)"
   ]
  },
  {
   "cell_type": "code",
   "execution_count": null,
   "id": "83848161",
   "metadata": {},
   "outputs": [],
   "source": [
    "pd.read_sql('sqltable',con=engine)"
   ]
  },
  {
   "cell_type": "markdown",
   "id": "deed1125",
   "metadata": {},
   "source": [
    "# SQL OPERATION IN PANDAS"
   ]
  },
  {
   "cell_type": "code",
   "execution_count": null,
   "id": "90a4ac5c",
   "metadata": {},
   "outputs": [],
   "source": [
    "import pandas as pd\n",
    "import sqlite3"
   ]
  },
  {
   "cell_type": "code",
   "execution_count": null,
   "id": "6ba3a885",
   "metadata": {},
   "outputs": [],
   "source": [
    "create_table =\"\"\"\n",
    "CREATE TABLE student_score\n",
    "(Id INTEGER, Name VARCHAR(20), Math REAL, \n",
    "Science REAL);\n",
    "\"\"\""
   ]
  },
  {
   "cell_type": "code",
   "execution_count": null,
   "id": "35700db4",
   "metadata": {},
   "outputs": [],
   "source": [
    "executestmt=sqlite3.connect(':memory:')\n",
    "executestmt.execute(create_table)\n",
    "executestmt.commit()"
   ]
  },
  {
   "cell_type": "code",
   "execution_count": null,
   "id": "4cbe7d31",
   "metadata": {},
   "outputs": [],
   "source": [
    "sql_query=executestmt.execute('select * from student_score')"
   ]
  },
  {
   "cell_type": "code",
   "execution_count": null,
   "id": "e6131316",
   "metadata": {},
   "outputs": [],
   "source": [
    "resultset=sql_query.fetchall()\n",
    "resultset"
   ]
  },
  {
   "cell_type": "code",
   "execution_count": null,
   "id": "50e07eb3",
   "metadata": {},
   "outputs": [],
   "source": [
    "insertSQL= [(10,'Jack',85,92),(29,'Tom',73,89),(65,'Ram',65.5,77),(5,'Steve',55,91)]\n"
   ]
  },
  {
   "cell_type": "code",
   "execution_count": null,
   "id": "880a280e",
   "metadata": {},
   "outputs": [],
   "source": [
    "insertstmt='INSERT INTO student_score Values(?,?,?,?)'"
   ]
  },
  {
   "cell_type": "code",
   "execution_count": null,
   "id": "d133c6d3",
   "metadata": {},
   "outputs": [],
   "source": [
    "executestmt.executemany(insertstmt,insertSQL)\n",
    "executestmt.commit()"
   ]
  },
  {
   "cell_type": "code",
   "execution_count": null,
   "id": "7a294cb7",
   "metadata": {
    "scrolled": true
   },
   "outputs": [],
   "source": [
    "sql_query=executestmt.execute('select * from student_score')\n",
    "resultset=sql_query.fetchall()\n",
    "resultset"
   ]
  },
  {
   "cell_type": "code",
   "execution_count": null,
   "id": "2ae5c406",
   "metadata": {},
   "outputs": [],
   "source": [
    "studentcolumns=pd.DataFrame(sql_query.description)[0]\n",
    "studentcolumns"
   ]
  },
  {
   "cell_type": "code",
   "execution_count": null,
   "id": "b95c243e",
   "metadata": {},
   "outputs": [],
   "source": [
    "df_student_records=pd.DataFrame(resultset,columns=studentcolumns)"
   ]
  },
  {
   "cell_type": "code",
   "execution_count": null,
   "id": "7314585a",
   "metadata": {},
   "outputs": [],
   "source": [
    "df_student_records"
   ]
  },
  {
   "cell_type": "code",
   "execution_count": null,
   "id": "fb566b56",
   "metadata": {},
   "outputs": [],
   "source": []
  },
  {
   "cell_type": "code",
   "execution_count": null,
   "id": "2c47b4e4",
   "metadata": {},
   "outputs": [],
   "source": []
  },
  {
   "cell_type": "code",
   "execution_count": null,
   "id": "67de8f5d",
   "metadata": {},
   "outputs": [],
   "source": []
  },
  {
   "cell_type": "code",
   "execution_count": null,
   "id": "f1223968",
   "metadata": {},
   "outputs": [],
   "source": []
  },
  {
   "cell_type": "code",
   "execution_count": null,
   "id": "1273ef8b",
   "metadata": {},
   "outputs": [],
   "source": []
  },
  {
   "cell_type": "code",
   "execution_count": null,
   "id": "0a008eb6",
   "metadata": {},
   "outputs": [],
   "source": []
  },
  {
   "cell_type": "code",
   "execution_count": null,
   "id": "e8272eb1",
   "metadata": {},
   "outputs": [],
   "source": []
  },
  {
   "cell_type": "code",
   "execution_count": null,
   "id": "8245c82f",
   "metadata": {},
   "outputs": [],
   "source": []
  },
  {
   "cell_type": "code",
   "execution_count": null,
   "id": "900f28cf",
   "metadata": {},
   "outputs": [],
   "source": []
  },
  {
   "cell_type": "code",
   "execution_count": null,
   "id": "4c003f07",
   "metadata": {},
   "outputs": [],
   "source": []
  },
  {
   "cell_type": "code",
   "execution_count": null,
   "id": "dcf789e2",
   "metadata": {},
   "outputs": [],
   "source": []
  },
  {
   "cell_type": "code",
   "execution_count": null,
   "id": "92d7641d",
   "metadata": {},
   "outputs": [],
   "source": []
  },
  {
   "cell_type": "code",
   "execution_count": null,
   "id": "31a19ba1",
   "metadata": {},
   "outputs": [],
   "source": []
  }
 ],
 "metadata": {
  "kernelspec": {
   "display_name": "Python 3 (ipykernel)",
   "language": "python",
   "name": "python3"
  },
  "language_info": {
   "codemirror_mode": {
    "name": "ipython",
    "version": 3
   },
   "file_extension": ".py",
   "mimetype": "text/x-python",
   "name": "python",
   "nbconvert_exporter": "python",
   "pygments_lexer": "ipython3",
   "version": "3.9.12"
  }
 },
 "nbformat": 4,
 "nbformat_minor": 5
}
