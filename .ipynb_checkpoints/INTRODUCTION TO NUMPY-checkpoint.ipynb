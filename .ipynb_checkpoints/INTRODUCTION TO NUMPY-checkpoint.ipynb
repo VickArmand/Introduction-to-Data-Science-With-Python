{
 "cells": [
  {
   "cell_type": "markdown",
   "id": "242b7d17",
   "metadata": {},
   "source": [
    "# NUMPY INTRO"
   ]
  },
  {
   "cell_type": "markdown",
   "id": "f85a0394",
   "metadata": {},
   "source": [
    "Numpy is used to handle big matrices and multidimensional data"
   ]
  },
  {
   "cell_type": "markdown",
   "id": "06abfa5d",
   "metadata": {},
   "source": [
    "    It supports fast and efficient multidimensional arrays\n",
    "    Performs linear algebraic operations ie.fourier transforms, random number generation\n",
    "    Stores and manipualtes data efficiently\n",
    "    executes elementwise computations and mathematical calculations\n",
    "    Has tools to integrate language codes (C and C++)\n",
    "    Has tools to read and write array based datasets from and to disks"
   ]
  },
  {
   "cell_type": "code",
   "execution_count": 1,
   "id": "1b42ec5c",
   "metadata": {},
   "outputs": [],
   "source": [
    "import numpy as np"
   ]
  },
  {
   "cell_type": "code",
   "execution_count": 2,
   "id": "d801a9a0",
   "metadata": {},
   "outputs": [
    {
     "data": {
      "text/plain": [
       "array([1, 2, 3, 4])"
      ]
     },
     "execution_count": 2,
     "metadata": {},
     "output_type": "execute_result"
    }
   ],
   "source": [
    "firstarray=np.array([1,2,3,4])\n",
    "firstarray"
   ]
  },
  {
   "cell_type": "code",
   "execution_count": 3,
   "id": "c13bc0ae",
   "metadata": {
    "scrolled": true
   },
   "outputs": [
    {
     "data": {
      "text/plain": [
       "array([0., 0., 0.])"
      ]
     },
     "execution_count": 3,
     "metadata": {},
     "output_type": "execute_result"
    }
   ],
   "source": [
    "np.zeros(3)"
   ]
  },
  {
   "cell_type": "code",
   "execution_count": 4,
   "id": "90e1717e",
   "metadata": {},
   "outputs": [
    {
     "data": {
      "text/plain": [
       "array([[1., 1., 1.],\n",
       "       [1., 1., 1.],\n",
       "       [1., 1., 1.]])"
      ]
     },
     "execution_count": 4,
     "metadata": {},
     "output_type": "execute_result"
    }
   ],
   "source": [
    "np.ones((3,3))"
   ]
  },
  {
   "cell_type": "code",
   "execution_count": 5,
   "id": "3b20d2a4",
   "metadata": {},
   "outputs": [
    {
     "data": {
      "text/plain": [
       "array([ 0,  1,  2,  3,  4,  5,  6,  7,  8,  9, 10, 11, 12, 13, 14])"
      ]
     },
     "execution_count": 5,
     "metadata": {},
     "output_type": "execute_result"
    }
   ],
   "source": [
    "np.arange(15)"
   ]
  },
  {
   "cell_type": "code",
   "execution_count": 6,
   "id": "f017209f",
   "metadata": {
    "scrolled": false
   },
   "outputs": [
    {
     "data": {
      "text/plain": [
       "array([[0., 0., 0.],\n",
       "       [0., 0., 0.]])"
      ]
     },
     "execution_count": 6,
     "metadata": {},
     "output_type": "execute_result"
    }
   ],
   "source": [
    "np.empty((2,3))"
   ]
  },
  {
   "cell_type": "code",
   "execution_count": 93,
   "id": "e59dc8fd",
   "metadata": {},
   "outputs": [
    {
     "data": {
      "text/plain": [
       "array([[0., 0., 0.],\n",
       "       [0., 0., 0.]])"
      ]
     },
     "execution_count": 93,
     "metadata": {},
     "output_type": "execute_result"
    }
   ],
   "source": [
    "x=np.empty((2,3))\n",
    "x"
   ]
  },
  {
   "cell_type": "code",
   "execution_count": 7,
   "id": "4d0ed8ee",
   "metadata": {},
   "outputs": [
    {
     "data": {
      "text/plain": [
       "array([ 0,  1,  2,  3,  4,  5,  6,  7,  8,  9, 10, 11, 12, 13, 14])"
      ]
     },
     "execution_count": 7,
     "metadata": {},
     "output_type": "execute_result"
    }
   ],
   "source": [
    "array1=np.arange(15)\n",
    "array1"
   ]
  },
  {
   "cell_type": "code",
   "execution_count": 8,
   "id": "e57e94d4",
   "metadata": {},
   "outputs": [
    {
     "data": {
      "text/plain": [
       "array([[ 0,  1,  2],\n",
       "       [ 3,  4,  5],\n",
       "       [ 6,  7,  8],\n",
       "       [ 9, 10, 11],\n",
       "       [12, 13, 14]])"
      ]
     },
     "execution_count": 8,
     "metadata": {},
     "output_type": "execute_result"
    }
   ],
   "source": [
    "# the difference between reshape() and resize() is that reshape() does not change the orignal array \n",
    "# but only returns the changed array while resize() returns nothing but changes the original array\n",
    "array1.reshape((5,3))"
   ]
  },
  {
   "cell_type": "code",
   "execution_count": 9,
   "id": "f6dd0932",
   "metadata": {},
   "outputs": [
    {
     "data": {
      "text/plain": [
       "array([[ 0,  1,  2],\n",
       "       [ 3,  4,  5],\n",
       "       [ 6,  7,  8],\n",
       "       [ 9, 10, 11],\n",
       "       [12, 13, 14]])"
      ]
     },
     "execution_count": 9,
     "metadata": {},
     "output_type": "execute_result"
    }
   ],
   "source": [
    "array1.resize((5,3))\n",
    "array1"
   ]
  },
  {
   "cell_type": "code",
   "execution_count": 10,
   "id": "67e10407",
   "metadata": {},
   "outputs": [
    {
     "data": {
      "text/plain": [
       "array([1.  , 2.25, 3.5 , 4.75, 6.  ])"
      ]
     },
     "execution_count": 10,
     "metadata": {},
     "output_type": "execute_result"
    }
   ],
   "source": [
    "np.linspace(1,6,5)"
   ]
  },
  {
   "cell_type": "code",
   "execution_count": 11,
   "id": "000255e1",
   "metadata": {},
   "outputs": [
    {
     "data": {
      "text/plain": [
       "2"
      ]
     },
     "execution_count": 11,
     "metadata": {},
     "output_type": "execute_result"
    }
   ],
   "source": [
    "np.ndim(array1)"
   ]
  },
  {
   "cell_type": "code",
   "execution_count": 12,
   "id": "f21f43be",
   "metadata": {},
   "outputs": [
    {
     "data": {
      "text/plain": [
       "15"
      ]
     },
     "execution_count": 12,
     "metadata": {},
     "output_type": "execute_result"
    }
   ],
   "source": [
    "np.size(array1)"
   ]
  },
  {
   "cell_type": "code",
   "execution_count": 13,
   "id": "11fbc625",
   "metadata": {},
   "outputs": [
    {
     "data": {
      "text/plain": [
       "(5, 3)"
      ]
     },
     "execution_count": 13,
     "metadata": {},
     "output_type": "execute_result"
    }
   ],
   "source": [
    "np.shape(array1)"
   ]
  },
  {
   "cell_type": "code",
   "execution_count": 14,
   "id": "ec62abd7",
   "metadata": {},
   "outputs": [
    {
     "data": {
      "text/plain": [
       "dtype('int32')"
      ]
     },
     "execution_count": 14,
     "metadata": {},
     "output_type": "execute_result"
    }
   ],
   "source": [
    "array1.dtype"
   ]
  },
  {
   "cell_type": "code",
   "execution_count": 15,
   "id": "fe4fcd8e",
   "metadata": {},
   "outputs": [
    {
     "data": {
      "text/plain": [
       "10"
      ]
     },
     "execution_count": 15,
     "metadata": {},
     "output_type": "execute_result"
    }
   ],
   "source": [
    "np.subtract(40,30)"
   ]
  },
  {
   "cell_type": "code",
   "execution_count": 16,
   "id": "86bc01e6",
   "metadata": {},
   "outputs": [
    {
     "data": {
      "text/plain": [
       "50"
      ]
     },
     "execution_count": 16,
     "metadata": {},
     "output_type": "execute_result"
    }
   ],
   "source": [
    "np.add(20,30)"
   ]
  },
  {
   "cell_type": "code",
   "execution_count": 17,
   "id": "8d5a2fb6",
   "metadata": {},
   "outputs": [
    {
     "data": {
      "text/plain": [
       "100"
      ]
     },
     "execution_count": 17,
     "metadata": {},
     "output_type": "execute_result"
    }
   ],
   "source": [
    "np.multiply(10,10)"
   ]
  },
  {
   "cell_type": "code",
   "execution_count": 18,
   "id": "97747074",
   "metadata": {},
   "outputs": [
    {
     "data": {
      "text/plain": [
       "10.0"
      ]
     },
     "execution_count": 18,
     "metadata": {},
     "output_type": "execute_result"
    }
   ],
   "source": [
    "np.divide(100,10)"
   ]
  },
  {
   "cell_type": "code",
   "execution_count": 19,
   "id": "f348214b",
   "metadata": {},
   "outputs": [
    {
     "data": {
      "text/plain": [
       "array([30, 30])"
      ]
     },
     "execution_count": 19,
     "metadata": {},
     "output_type": "execute_result"
    }
   ],
   "source": [
    "np.array([10,10])*3"
   ]
  },
  {
   "cell_type": "code",
   "execution_count": 20,
   "id": "2366cca3",
   "metadata": {},
   "outputs": [
    {
     "data": {
      "text/plain": [
       "array([20, 20])"
      ]
     },
     "execution_count": 20,
     "metadata": {},
     "output_type": "execute_result"
    }
   ],
   "source": [
    "np.array([10,10])*2"
   ]
  },
  {
   "cell_type": "code",
   "execution_count": 21,
   "id": "cd22ffb5",
   "metadata": {},
   "outputs": [
    {
     "data": {
      "text/plain": [
       "array([15, 15])"
      ]
     },
     "execution_count": 21,
     "metadata": {},
     "output_type": "execute_result"
    }
   ],
   "source": [
    "np.array([10,10])+5"
   ]
  },
  {
   "cell_type": "code",
   "execution_count": 22,
   "id": "b48e89e8",
   "metadata": {},
   "outputs": [
    {
     "data": {
      "text/plain": [
       "array([4, 4])"
      ]
     },
     "execution_count": 22,
     "metadata": {},
     "output_type": "execute_result"
    }
   ],
   "source": [
    "np.array([10,10])-6"
   ]
  },
  {
   "cell_type": "code",
   "execution_count": 23,
   "id": "3a6923ca",
   "metadata": {},
   "outputs": [
    {
     "data": {
      "text/plain": [
       "array([ 6,  7,  8,  9, 10, 11, 12, 13, 14])"
      ]
     },
     "execution_count": 23,
     "metadata": {},
     "output_type": "execute_result"
    }
   ],
   "source": [
    "array1[array1>5]"
   ]
  },
  {
   "cell_type": "code",
   "execution_count": 24,
   "id": "4b6e3a8f",
   "metadata": {},
   "outputs": [
    {
     "data": {
      "text/plain": [
       "array([[ True,  True,  True],\n",
       "       [ True,  True,  True],\n",
       "       [False, False, False],\n",
       "       [False, False, False],\n",
       "       [False, False, False]])"
      ]
     },
     "execution_count": 24,
     "metadata": {},
     "output_type": "execute_result"
    }
   ],
   "source": [
    "np.logical_not(array1>5)"
   ]
  },
  {
   "cell_type": "code",
   "execution_count": 25,
   "id": "bbe41031",
   "metadata": {},
   "outputs": [
    {
     "data": {
      "text/plain": [
       "array([[False, False, False],\n",
       "       [False, False, False],\n",
       "       [ True,  True,  True],\n",
       "       [ True, False, False],\n",
       "       [False, False, False]])"
      ]
     },
     "execution_count": 25,
     "metadata": {},
     "output_type": "execute_result"
    }
   ],
   "source": [
    "np.logical_and(array1>5,array1<10)"
   ]
  },
  {
   "cell_type": "code",
   "execution_count": 26,
   "id": "7076e18e",
   "metadata": {},
   "outputs": [
    {
     "data": {
      "text/plain": [
       "array([[ True,  True,  True],\n",
       "       [ True,  True,  True],\n",
       "       [ True,  True,  True],\n",
       "       [ True,  True,  True],\n",
       "       [ True,  True,  True]])"
      ]
     },
     "execution_count": 26,
     "metadata": {},
     "output_type": "execute_result"
    }
   ],
   "source": [
    "np.logical_or(array1>5,array1<10)"
   ]
  },
  {
   "cell_type": "code",
   "execution_count": 27,
   "id": "69db1fdd",
   "metadata": {
    "scrolled": true
   },
   "outputs": [
    {
     "data": {
      "text/plain": [
       "array([[ True,  True,  True],\n",
       "       [ True,  True,  True],\n",
       "       [False, False, False],\n",
       "       [False,  True,  True],\n",
       "       [ True,  True,  True]])"
      ]
     },
     "execution_count": 27,
     "metadata": {},
     "output_type": "execute_result"
    }
   ],
   "source": [
    "np.logical_xor(array1>5,array1<10)"
   ]
  },
  {
   "cell_type": "code",
   "execution_count": 28,
   "id": "7dd36c4f",
   "metadata": {},
   "outputs": [
    {
     "data": {
      "text/plain": [
       "array([0, 1, 2, 3, 4, 5])"
      ]
     },
     "execution_count": 28,
     "metadata": {},
     "output_type": "execute_result"
    }
   ],
   "source": [
    "notgreatthan5=np.logical_not(array1>5)\n",
    "array1[notgreatthan5]"
   ]
  },
  {
   "cell_type": "code",
   "execution_count": 88,
   "id": "6d889b66",
   "metadata": {},
   "outputs": [
    {
     "data": {
      "text/plain": [
       "array([ 0,  1,  2,  3,  4,  5,  6,  7,  8,  9, 10, 11, 12, 13, 14, 15, 16,\n",
       "       17, 18, 19])"
      ]
     },
     "execution_count": 88,
     "metadata": {},
     "output_type": "execute_result"
    }
   ],
   "source": [
    "arrtrials=np.arange(20)\n",
    "arrtrials"
   ]
  },
  {
   "cell_type": "code",
   "execution_count": 89,
   "id": "25028bfb",
   "metadata": {},
   "outputs": [
    {
     "data": {
      "text/plain": [
       "array([0, 1, 2])"
      ]
     },
     "execution_count": 89,
     "metadata": {},
     "output_type": "execute_result"
    }
   ],
   "source": [
    "arrtrials[0:3]"
   ]
  },
  {
   "cell_type": "code",
   "execution_count": 90,
   "id": "be4fc8e4",
   "metadata": {
    "scrolled": true
   },
   "outputs": [
    {
     "data": {
      "text/plain": [
       "array([[ 0,  1,  2,  3,  4],\n",
       "       [ 5,  6,  7,  8,  9],\n",
       "       [10, 11, 12, 13, 14],\n",
       "       [15, 16, 17, 18, 19]])"
      ]
     },
     "execution_count": 90,
     "metadata": {},
     "output_type": "execute_result"
    }
   ],
   "source": [
    "arrtrials=arrtrials.reshape((4,5))\n",
    "arrtrials"
   ]
  },
  {
   "cell_type": "code",
   "execution_count": 91,
   "id": "ab203840",
   "metadata": {
    "scrolled": false
   },
   "outputs": [
    {
     "data": {
      "text/plain": [
       "array([ 0,  1,  2,  3,  4,  5,  6,  7,  8,  9, 10, 11, 12, 13, 14, 15, 16,\n",
       "       17, 18, 19])"
      ]
     },
     "execution_count": 91,
     "metadata": {},
     "output_type": "execute_result"
    }
   ],
   "source": [
    "arrtrials.ravel()\n",
    "# ravel flattens the array"
   ]
  },
  {
   "cell_type": "code",
   "execution_count": 32,
   "id": "01aa80aa",
   "metadata": {},
   "outputs": [
    {
     "data": {
      "text/plain": [
       "array([0, 1, 2, 3, 4])"
      ]
     },
     "execution_count": 32,
     "metadata": {},
     "output_type": "execute_result"
    }
   ],
   "source": [
    "arrtrials[0]"
   ]
  },
  {
   "cell_type": "code",
   "execution_count": 33,
   "id": "566ff8c1",
   "metadata": {},
   "outputs": [
    {
     "data": {
      "text/plain": [
       "array([[ 1,  2],\n",
       "       [ 6,  7],\n",
       "       [11, 12],\n",
       "       [16, 17]])"
      ]
     },
     "execution_count": 33,
     "metadata": {},
     "output_type": "execute_result"
    }
   ],
   "source": [
    "arrtrials[:,1:3]"
   ]
  },
  {
   "cell_type": "code",
   "execution_count": 34,
   "id": "903e9a55",
   "metadata": {},
   "outputs": [
    {
     "name": "stdout",
     "output_type": "stream",
     "text": [
      "[0 1 2 3 4]\n",
      "[5 6 7 8 9]\n",
      "[10 11 12 13 14]\n",
      "[15 16 17 18 19]\n"
     ]
    }
   ],
   "source": [
    "for trial in arrtrials:\n",
    "    print(trial)"
   ]
  },
  {
   "cell_type": "markdown",
   "id": "07ea1e8f",
   "metadata": {},
   "source": [
    "# COPY AND VIEWS"
   ]
  },
  {
   "cell_type": "code",
   "execution_count": 35,
   "id": "cf457101",
   "metadata": {},
   "outputs": [
    {
     "data": {
      "text/plain": [
       "array(['NY', 'Houston', 'LA', 'ATL'], dtype='<U7')"
      ]
     },
     "execution_count": 35,
     "metadata": {},
     "output_type": "execute_result"
    }
   ],
   "source": [
    "cities=np.array(['NY','Houston','LA','ATL'])\n",
    "cities"
   ]
  },
  {
   "cell_type": "code",
   "execution_count": 36,
   "id": "dc0cd700",
   "metadata": {},
   "outputs": [
    {
     "data": {
      "text/plain": [
       "array(['NY', 'Houston', 'LA', 'ATL'], dtype='<U7')"
      ]
     },
     "execution_count": 36,
     "metadata": {},
     "output_type": "execute_result"
    }
   ],
   "source": [
    "hoods=cities\n",
    "hoods"
   ]
  },
  {
   "cell_type": "code",
   "execution_count": 37,
   "id": "defb8eae",
   "metadata": {
    "scrolled": true
   },
   "outputs": [
    {
     "data": {
      "text/plain": [
       "True"
      ]
     },
     "execution_count": 37,
     "metadata": {},
     "output_type": "execute_result"
    }
   ],
   "source": [
    "hoods is cities"
   ]
  },
  {
   "cell_type": "code",
   "execution_count": 38,
   "id": "609c9d30",
   "metadata": {},
   "outputs": [],
   "source": [
    "# VIEWS also known as SHALLOW COPY\n",
    "# a change in a value in a view causes a corresponding change in the original array"
   ]
  },
  {
   "cell_type": "code",
   "execution_count": 39,
   "id": "b186186b",
   "metadata": {},
   "outputs": [
    {
     "data": {
      "text/plain": [
       "array(['NY', 'Houston', 'LA', 'ATL'], dtype='<U7')"
      ]
     },
     "execution_count": 39,
     "metadata": {},
     "output_type": "execute_result"
    }
   ],
   "source": [
    "hoods1=cities.view()\n",
    "hoods1"
   ]
  },
  {
   "cell_type": "code",
   "execution_count": 40,
   "id": "89a4edbf",
   "metadata": {},
   "outputs": [
    {
     "data": {
      "text/plain": [
       "False"
      ]
     },
     "execution_count": 40,
     "metadata": {},
     "output_type": "execute_result"
    }
   ],
   "source": [
    "hoods1 is cities"
   ]
  },
  {
   "cell_type": "code",
   "execution_count": 41,
   "id": "75a0e105",
   "metadata": {},
   "outputs": [
    {
     "data": {
      "text/plain": [
       "array(['NY', 'Houston', 'LA', 'Central'], dtype='<U7')"
      ]
     },
     "execution_count": 41,
     "metadata": {},
     "output_type": "execute_result"
    }
   ],
   "source": [
    "hoods1[3]='Central Park'\n",
    "hoods1"
   ]
  },
  {
   "cell_type": "code",
   "execution_count": 42,
   "id": "150df705",
   "metadata": {},
   "outputs": [
    {
     "data": {
      "text/plain": [
       "array(['NY', 'Houston', 'LA', 'Central'], dtype='<U7')"
      ]
     },
     "execution_count": 42,
     "metadata": {},
     "output_type": "execute_result"
    }
   ],
   "source": [
    "cities"
   ]
  },
  {
   "cell_type": "code",
   "execution_count": 43,
   "id": "bf8e191b",
   "metadata": {},
   "outputs": [],
   "source": [
    "# Deep copy\n",
    "# a change in a value in a deep copy array does not cause a corresponding change in the original array"
   ]
  },
  {
   "cell_type": "code",
   "execution_count": 44,
   "id": "d8312890",
   "metadata": {},
   "outputs": [
    {
     "data": {
      "text/plain": [
       "array(['NY', 'Houston', 'LA', 'Central'], dtype='<U7')"
      ]
     },
     "execution_count": 44,
     "metadata": {},
     "output_type": "execute_result"
    }
   ],
   "source": [
    "hoods2=cities.copy()\n",
    "hoods2"
   ]
  },
  {
   "cell_type": "code",
   "execution_count": 45,
   "id": "fbdbdaf3",
   "metadata": {},
   "outputs": [
    {
     "data": {
      "text/plain": [
       "False"
      ]
     },
     "execution_count": 45,
     "metadata": {},
     "output_type": "execute_result"
    }
   ],
   "source": [
    "hoods2 is cities"
   ]
  },
  {
   "cell_type": "code",
   "execution_count": 46,
   "id": "888575d1",
   "metadata": {},
   "outputs": [
    {
     "data": {
      "text/plain": [
       "array(['NY', 'Houston', 'LA', 'Central'], dtype='<U7')"
      ]
     },
     "execution_count": 46,
     "metadata": {},
     "output_type": "execute_result"
    }
   ],
   "source": [
    "hoods2[3]='Central Park'\n",
    "hoods2"
   ]
  },
  {
   "cell_type": "code",
   "execution_count": 47,
   "id": "d7d1dbbb",
   "metadata": {},
   "outputs": [],
   "source": [
    "arrtrials=np.arange(10)"
   ]
  },
  {
   "cell_type": "code",
   "execution_count": 48,
   "id": "dbbd48ba",
   "metadata": {},
   "outputs": [
    {
     "data": {
      "text/plain": [
       "[array([0, 1, 2, 3, 4]), array([5, 6, 7, 8, 9])]"
      ]
     },
     "execution_count": 48,
     "metadata": {},
     "output_type": "execute_result"
    }
   ],
   "source": [
    "np.hsplit(arrtrials,2)"
   ]
  },
  {
   "cell_type": "code",
   "execution_count": 49,
   "id": "c847f220",
   "metadata": {},
   "outputs": [
    {
     "data": {
      "text/plain": [
       "array([[0, 1, 2, 3, 4],\n",
       "       [5, 6, 7, 8, 9]])"
      ]
     },
     "execution_count": 49,
     "metadata": {},
     "output_type": "execute_result"
    }
   ],
   "source": [
    "arrtrials.reshape((2,5))"
   ]
  },
  {
   "cell_type": "code",
   "execution_count": 50,
   "id": "58c92c09",
   "metadata": {},
   "outputs": [
    {
     "data": {
      "text/plain": [
       "array([0, 1, 2, 3, 4, 5, 6, 7, 8, 9])"
      ]
     },
     "execution_count": 50,
     "metadata": {},
     "output_type": "execute_result"
    }
   ],
   "source": [
    "arrtrials.ravel()"
   ]
  },
  {
   "cell_type": "code",
   "execution_count": 51,
   "id": "fff9884d",
   "metadata": {},
   "outputs": [
    {
     "data": {
      "text/plain": [
       "array([0, 1, 2, 3, 4, 5, 6, 7, 8, 9])"
      ]
     },
     "execution_count": 51,
     "metadata": {},
     "output_type": "execute_result"
    }
   ],
   "source": [
    "arrayx=np.arange(10)\n",
    "arrayy=np.array((10,11,12,13,14,15))\n",
    "arrayx"
   ]
  },
  {
   "cell_type": "code",
   "execution_count": 52,
   "id": "ace563a8",
   "metadata": {},
   "outputs": [
    {
     "data": {
      "text/plain": [
       "array([10, 11, 12, 13, 14, 15])"
      ]
     },
     "execution_count": 52,
     "metadata": {},
     "output_type": "execute_result"
    }
   ],
   "source": [
    "arrayy"
   ]
  },
  {
   "cell_type": "code",
   "execution_count": 53,
   "id": "93379249",
   "metadata": {},
   "outputs": [
    {
     "data": {
      "text/plain": [
       "array([ 0,  1,  2,  3,  4,  5,  6,  7,  8,  9, 10, 11, 12, 13, 14, 15])"
      ]
     },
     "execution_count": 53,
     "metadata": {},
     "output_type": "execute_result"
    }
   ],
   "source": [
    "np.hstack((arrayx,arrayy))"
   ]
  },
  {
   "cell_type": "code",
   "execution_count": 54,
   "id": "20484adb",
   "metadata": {},
   "outputs": [
    {
     "data": {
      "text/plain": [
       "array([1.41421356, 2.        , 3.        , 4.        ])"
      ]
     },
     "execution_count": 54,
     "metadata": {},
     "output_type": "execute_result"
    }
   ],
   "source": [
    "np.sqrt([2,4,9,16])"
   ]
  },
  {
   "cell_type": "code",
   "execution_count": 55,
   "id": "136f263d",
   "metadata": {},
   "outputs": [],
   "source": [
    "from numpy import pi"
   ]
  },
  {
   "cell_type": "code",
   "execution_count": 56,
   "id": "d6b93cb6",
   "metadata": {},
   "outputs": [
    {
     "data": {
      "text/plain": [
       "1.0"
      ]
     },
     "execution_count": 56,
     "metadata": {},
     "output_type": "execute_result"
    }
   ],
   "source": [
    "np.cos(0)"
   ]
  },
  {
   "cell_type": "code",
   "execution_count": 57,
   "id": "4ea19e32",
   "metadata": {},
   "outputs": [
    {
     "data": {
      "text/plain": [
       "-0.26237485370392877"
      ]
     },
     "execution_count": 57,
     "metadata": {},
     "output_type": "execute_result"
    }
   ],
   "source": [
    "np.sin(50)"
   ]
  },
  {
   "cell_type": "code",
   "execution_count": 58,
   "id": "12b7fbd7",
   "metadata": {},
   "outputs": [
    {
     "data": {
      "text/plain": [
       "1.633123935319537e+16"
      ]
     },
     "execution_count": 58,
     "metadata": {},
     "output_type": "execute_result"
    }
   ],
   "source": [
    "np.tan(pi/2)"
   ]
  },
  {
   "cell_type": "code",
   "execution_count": 59,
   "id": "1e02a24e",
   "metadata": {},
   "outputs": [
    {
     "data": {
      "text/plain": [
       "array([1.        , 2.71828183, 7.3890561 ])"
      ]
     },
     "execution_count": 59,
     "metadata": {},
     "output_type": "execute_result"
    }
   ],
   "source": [
    "np.exp([0,1,2])"
   ]
  },
  {
   "cell_type": "code",
   "execution_count": 60,
   "id": "3c3a5c88",
   "metadata": {
    "scrolled": false
   },
   "outputs": [
    {
     "data": {
      "text/plain": [
       "array([ 1.,  1.,  2.,  2.,  2.,  3., -3., -1.])"
      ]
     },
     "execution_count": 60,
     "metadata": {},
     "output_type": "execute_result"
    }
   ],
   "source": [
    "np.floor([1.5,1.6,2.0,2.3,2.9,3.7,-2.9,-0.3])"
   ]
  },
  {
   "cell_type": "code",
   "execution_count": 61,
   "id": "eea11421",
   "metadata": {},
   "outputs": [
    {
     "data": {
      "text/plain": [
       "array([ 2.,  2.,  2.,  3.,  3.,  4., -2., -0.])"
      ]
     },
     "execution_count": 61,
     "metadata": {},
     "output_type": "execute_result"
    }
   ],
   "source": [
    "np.ceil([1.5,1.6,2.0,2.3,2.9,3.7,-2.9,-0.3])"
   ]
  },
  {
   "cell_type": "code",
   "execution_count": 62,
   "id": "897e4c61",
   "metadata": {},
   "outputs": [],
   "source": [
    "# Transpose converts rows to columns and viceversa\n",
    "# Applying a transpose to a one dimension array results in the same array"
   ]
  },
  {
   "cell_type": "code",
   "execution_count": 63,
   "id": "34546629",
   "metadata": {},
   "outputs": [
    {
     "data": {
      "text/plain": [
       "array([0, 1, 2, 3, 4, 5, 6, 7, 8, 9])"
      ]
     },
     "execution_count": 63,
     "metadata": {},
     "output_type": "execute_result"
    }
   ],
   "source": [
    "np.transpose(arrtrials)"
   ]
  },
  {
   "cell_type": "code",
   "execution_count": 64,
   "id": "0a380201",
   "metadata": {},
   "outputs": [
    {
     "data": {
      "text/plain": [
       "array([[0, 1, 2, 3, 4],\n",
       "       [5, 6, 7, 8, 9]])"
      ]
     },
     "execution_count": 64,
     "metadata": {},
     "output_type": "execute_result"
    }
   ],
   "source": [
    "arrtrials=arrtrials.reshape((2,5))\n",
    "arrtrials"
   ]
  },
  {
   "cell_type": "code",
   "execution_count": 65,
   "id": "7d41e265",
   "metadata": {},
   "outputs": [
    {
     "data": {
      "text/plain": [
       "array([[0, 5],\n",
       "       [1, 6],\n",
       "       [2, 7],\n",
       "       [3, 8],\n",
       "       [4, 9]])"
      ]
     },
     "execution_count": 65,
     "metadata": {},
     "output_type": "execute_result"
    }
   ],
   "source": [
    "arrtrials=np.transpose(arrtrials)\n",
    "arrtrials"
   ]
  },
  {
   "cell_type": "code",
   "execution_count": 66,
   "id": "d8a31f2c",
   "metadata": {},
   "outputs": [
    {
     "data": {
      "text/plain": [
       "array([[83, 71, 57, 63],\n",
       "       [54, 68, 81, 45]])"
      ]
     },
     "execution_count": 66,
     "metadata": {},
     "output_type": "execute_result"
    }
   ],
   "source": [
    "trialx=np.array([[83,71,57,63],[54,68,81,45]])\n",
    "trialx"
   ]
  },
  {
   "cell_type": "code",
   "execution_count": 67,
   "id": "0515c24e",
   "metadata": {},
   "outputs": [
    {
     "data": {
      "text/plain": [
       "array([[83, 54],\n",
       "       [71, 68],\n",
       "       [57, 81],\n",
       "       [63, 45]])"
      ]
     },
     "execution_count": 67,
     "metadata": {},
     "output_type": "execute_result"
    }
   ],
   "source": [
    "trialx=np.transpose(trialx)\n",
    "trialx"
   ]
  },
  {
   "cell_type": "code",
   "execution_count": 68,
   "id": "50ab9bab",
   "metadata": {},
   "outputs": [],
   "source": [
    "# To find the inverse of a matrix the matrix must be a square matrix"
   ]
  },
  {
   "cell_type": "code",
   "execution_count": 69,
   "id": "a264ba85",
   "metadata": {},
   "outputs": [
    {
     "data": {
      "text/plain": [
       "array([[-0.5,  0.4],\n",
       "       [ 0.3, -0.2]])"
      ]
     },
     "execution_count": 69,
     "metadata": {},
     "output_type": "execute_result"
    }
   ],
   "source": [
    "trialx=np.array([[10,20],[15,25]])\n",
    "np.linalg.inv(trialx)"
   ]
  },
  {
   "cell_type": "code",
   "execution_count": 70,
   "id": "5c98ceb4",
   "metadata": {},
   "outputs": [],
   "source": [
    "# Trace is the sum of diagonal elements from left to right"
   ]
  },
  {
   "cell_type": "code",
   "execution_count": 71,
   "id": "1059cefe",
   "metadata": {},
   "outputs": [
    {
     "data": {
      "text/plain": [
       "array([[10, 20],\n",
       "       [15, 25]])"
      ]
     },
     "execution_count": 71,
     "metadata": {},
     "output_type": "execute_result"
    }
   ],
   "source": [
    "trialx"
   ]
  },
  {
   "cell_type": "code",
   "execution_count": 72,
   "id": "d8887a32",
   "metadata": {
    "scrolled": true
   },
   "outputs": [
    {
     "data": {
      "text/plain": [
       "35"
      ]
     },
     "execution_count": 72,
     "metadata": {},
     "output_type": "execute_result"
    }
   ],
   "source": [
    "np.trace(trialx)"
   ]
  },
  {
   "cell_type": "code",
   "execution_count": 73,
   "id": "f8247109",
   "metadata": {},
   "outputs": [
    {
     "data": {
      "text/plain": [
       "array([0, 1, 2, 3, 4, 5, 6, 7, 8, 9])"
      ]
     },
     "execution_count": 73,
     "metadata": {},
     "output_type": "execute_result"
    }
   ],
   "source": [
    "arrayx=np.arange(10)\n",
    "arrayy=np.array((10,11,12,13,14,15,16,17,18,19))\n",
    "arrayx"
   ]
  },
  {
   "cell_type": "code",
   "execution_count": 74,
   "id": "09a1fb77",
   "metadata": {
    "scrolled": true
   },
   "outputs": [
    {
     "data": {
      "text/plain": [
       "array([10, 12, 14, 16, 18, 20, 22, 24, 26, 28])"
      ]
     },
     "execution_count": 74,
     "metadata": {},
     "output_type": "execute_result"
    }
   ],
   "source": [
    "arrayx+arrayy"
   ]
  },
  {
   "cell_type": "code",
   "execution_count": 75,
   "id": "f29a47e0",
   "metadata": {},
   "outputs": [
    {
     "data": {
      "text/plain": [
       "9"
      ]
     },
     "execution_count": 75,
     "metadata": {},
     "output_type": "execute_result"
    }
   ],
   "source": [
    "arrayy.argmax()"
   ]
  },
  {
   "cell_type": "code",
   "execution_count": 76,
   "id": "f8259cf8",
   "metadata": {},
   "outputs": [
    {
     "data": {
      "text/plain": [
       "19"
      ]
     },
     "execution_count": 76,
     "metadata": {},
     "output_type": "execute_result"
    }
   ],
   "source": [
    "np.max(arrayy)"
   ]
  },
  {
   "cell_type": "code",
   "execution_count": 77,
   "id": "855d353a",
   "metadata": {},
   "outputs": [
    {
     "data": {
      "text/plain": [
       "10"
      ]
     },
     "execution_count": 77,
     "metadata": {},
     "output_type": "execute_result"
    }
   ],
   "source": [
    "np.min(arrayy)"
   ]
  },
  {
   "cell_type": "code",
   "execution_count": 78,
   "id": "b5d9c869",
   "metadata": {},
   "outputs": [
    {
     "data": {
      "text/plain": [
       "2.0"
      ]
     },
     "execution_count": 78,
     "metadata": {},
     "output_type": "execute_result"
    }
   ],
   "source": [
    "np.log2(4)"
   ]
  },
  {
   "cell_type": "code",
   "execution_count": 79,
   "id": "3caf7c9f",
   "metadata": {},
   "outputs": [
    {
     "data": {
      "text/plain": [
       "4.605170185988092"
      ]
     },
     "execution_count": 79,
     "metadata": {},
     "output_type": "execute_result"
    }
   ],
   "source": [
    "np.log(100)"
   ]
  },
  {
   "cell_type": "code",
   "execution_count": 80,
   "id": "3aee0be7",
   "metadata": {},
   "outputs": [
    {
     "data": {
      "text/plain": [
       "2.0"
      ]
     },
     "execution_count": 80,
     "metadata": {},
     "output_type": "execute_result"
    }
   ],
   "source": [
    "np.log10(100)"
   ]
  },
  {
   "cell_type": "code",
   "execution_count": 81,
   "id": "ffcf1fa1",
   "metadata": {},
   "outputs": [
    {
     "data": {
      "text/plain": [
       "0"
      ]
     },
     "execution_count": 81,
     "metadata": {},
     "output_type": "execute_result"
    }
   ],
   "source": [
    "np.mod(4,2)"
   ]
  },
  {
   "cell_type": "code",
   "execution_count": 82,
   "id": "f24d6fdf",
   "metadata": {},
   "outputs": [
    {
     "data": {
      "text/plain": [
       "array([[1., 0., 0., 0.],\n",
       "       [0., 1., 0., 0.],\n",
       "       [0., 0., 1., 0.],\n",
       "       [0., 0., 0., 1.]])"
      ]
     },
     "execution_count": 82,
     "metadata": {},
     "output_type": "execute_result"
    }
   ],
   "source": [
    "np.eye(4) \n",
    "# creating a 5 x 5  identity matrix"
   ]
  },
  {
   "cell_type": "code",
   "execution_count": 83,
   "id": "8e819afe",
   "metadata": {},
   "outputs": [
    {
     "data": {
      "text/plain": [
       "array([68,  7, 84, 84, 90, 85, 90, 67, 84, 15])"
      ]
     },
     "execution_count": 83,
     "metadata": {},
     "output_type": "execute_result"
    }
   ],
   "source": [
    "np.random.randint(1,100,10)"
   ]
  },
  {
   "cell_type": "code",
   "execution_count": 84,
   "id": "4c056f0d",
   "metadata": {},
   "outputs": [
    {
     "data": {
      "text/plain": [
       "34"
      ]
     },
     "execution_count": 84,
     "metadata": {},
     "output_type": "execute_result"
    }
   ],
   "source": [
    "np.random.randint(1,100)"
   ]
  },
  {
   "cell_type": "code",
   "execution_count": 85,
   "id": "620538f4",
   "metadata": {},
   "outputs": [
    {
     "data": {
      "text/plain": [
       "array([[ 0.26958542, -0.01874786,  1.18530726, -1.20761082, -0.07774948],\n",
       "       [-1.03558555,  1.30490843,  1.82248212, -0.10121519,  1.27299793],\n",
       "       [ 0.28951635,  0.17460717,  0.74539495,  0.70045488,  0.17945282],\n",
       "       [-0.28393017, -0.69717128,  0.11587086,  0.08150283, -1.54273355],\n",
       "       [-0.3040602 ,  0.00768763,  0.25611831,  1.44046036,  0.03474148]])"
      ]
     },
     "execution_count": 85,
     "metadata": {},
     "output_type": "execute_result"
    }
   ],
   "source": [
    "np.random.randn(5,5)\n",
    "# A random 5 x 5 matrix"
   ]
  },
  {
   "cell_type": "code",
   "execution_count": 86,
   "id": "b4fe9a21",
   "metadata": {},
   "outputs": [
    {
     "data": {
      "text/plain": [
       "array([-1.19544803, -0.80281535])"
      ]
     },
     "execution_count": 86,
     "metadata": {},
     "output_type": "execute_result"
    }
   ],
   "source": [
    "np.random.randn(2)\n",
    "# Two random numbers"
   ]
  },
  {
   "cell_type": "code",
   "execution_count": null,
   "id": "e84702dc",
   "metadata": {},
   "outputs": [],
   "source": []
  }
 ],
 "metadata": {
  "kernelspec": {
   "display_name": "Python 3",
   "language": "python",
   "name": "python3"
  },
  "language_info": {
   "codemirror_mode": {
    "name": "ipython",
    "version": 3
   },
   "file_extension": ".py",
   "mimetype": "text/x-python",
   "name": "python",
   "nbconvert_exporter": "python",
   "pygments_lexer": "ipython3",
   "version": "3.8.8"
  }
 },
 "nbformat": 4,
 "nbformat_minor": 5
}
