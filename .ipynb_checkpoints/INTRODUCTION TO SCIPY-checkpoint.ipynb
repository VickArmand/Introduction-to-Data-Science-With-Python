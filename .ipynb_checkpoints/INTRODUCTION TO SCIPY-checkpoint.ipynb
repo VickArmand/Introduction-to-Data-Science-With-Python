{
 "cells": [
  {
   "cell_type": "markdown",
   "id": "5b964bd8",
   "metadata": {},
   "source": [
    "Scipy is an extension of NumPy for scientific and advanced mathematical algorithms and functions"
   ]
  },
  {
   "cell_type": "markdown",
   "id": "c63fb38c",
   "metadata": {},
   "source": [
    "REAL LIFE DOMAINS IN WHICH SCIPY IS USED\n",
    "\n",
    "    Statistics- used in hypothesis building and outcome prediction.\n",
    "    Spatial data-spatial data consists of lines, objects,points,regions,surfaces,volumes. Used in retrieving records\n",
    "    Image science-study multidimensional images and their processing. Understands image properties and extracts values.\n",
    "    Mathematical equation-Solves complex problems ie:differentiation\n",
    "    Platform integration- Helps integrate platforms built in languages. Reuses code written in C and C++\n",
    "    Signal processing- Helps process read and understand signals\n",
    "    Optimization\n",
    "    \n",
    "    "
   ]
  },
  {
   "cell_type": "markdown",
   "id": "9109ee03",
   "metadata": {},
   "source": [
    "# SCIPY PACKAGES\n",
    "\n",
    "    Mathematical integration\n",
    "    Multidimensional image processing\n",
    "    Linear algebra\n",
    "    Language integration\n",
    "    Statistics(Normal distribution)"
   ]
  },
  {
   "cell_type": "markdown",
   "id": "548db951",
   "metadata": {},
   "source": [
    "# SCIPY XTICS\n",
    "\n",
    "    Built in mathematical libraries and functions\n",
    "    High level commands for data manipulation and visualization\n",
    "    Efficient and fast data processing\n",
    "    Integrates well with multiple systems and environments\n",
    "    Large collection of subpackages for different scientific domains\n",
    "    Simplifies scientific application development"
   ]
  },
  {
   "cell_type": "markdown",
   "id": "64629818",
   "metadata": {},
   "source": [
    "# SCIPY SUBPACKAGES\n",
    "    Cluster- for clustering algorithms\n",
    "    Constants-used for mathematical equations such as PI\n",
    "    fftpack-Computes Discrete Fourier Transform routines\n",
    "    integrate-Used to solve mathematical sequences or series\n",
    "    spatial-Used in problems related to graphs\n",
    "    interpolate-used to create data points\n",
    "    io-Used in reading and writing data from and to different file formats\n",
    "    linalg-used for linear algebra problems\n",
    "    ndimage-processes multidimensional images\n",
    "    odr(orthogonal distance regression)-Handles explicit and implicit functions\n",
    "    optimize-optimizes performance by fine tuning"
   ]
  },
  {
   "cell_type": "markdown",
   "id": "df805dcf",
   "metadata": {},
   "source": [
    "# INTEGRATION"
   ]
  },
  {
   "cell_type": "code",
   "execution_count": 2,
   "id": "eb56cb96",
   "metadata": {},
   "outputs": [],
   "source": [
    "from scipy.integrate import quad"
   ]
  },
  {
   "cell_type": "code",
   "execution_count": 3,
   "id": "17e52a75",
   "metadata": {},
   "outputs": [],
   "source": [
    "def integrateFunction(x):\n",
    "    return x"
   ]
  },
  {
   "cell_type": "code",
   "execution_count": 24,
   "id": "4abb892a",
   "metadata": {},
   "outputs": [
    {
     "data": {
      "text/plain": [
       "(0.5, 5.551115123125783e-15)"
      ]
     },
     "execution_count": 24,
     "metadata": {},
     "output_type": "execute_result"
    }
   ],
   "source": [
    "quad(integrateFunction,0,1)\n",
    "# Perform quad integration for function of x for limit 0 to 1(from 0 to 1)"
   ]
  },
  {
   "cell_type": "code",
   "execution_count": 26,
   "id": "089ce8a3",
   "metadata": {},
   "outputs": [],
   "source": [
    "def integrateFn(x,a,b):\n",
    "    return x*a+b\n"
   ]
  },
  {
   "cell_type": "code",
   "execution_count": 29,
   "id": "eea6b526",
   "metadata": {
    "scrolled": true
   },
   "outputs": [
    {
     "data": {
      "text/plain": [
       "(3.5, 3.885780586188048e-14)"
      ]
     },
     "execution_count": 29,
     "metadata": {},
     "output_type": "execute_result"
    }
   ],
   "source": [
    "a=3\n",
    "b=2\n",
    "quad(integrateFn,0,1,args=(a,b))\n",
    "# Perform quad integration for function of ax+b for limit 0 to 1(from 0 to 1) where a=3 and b =2"
   ]
  },
  {
   "cell_type": "markdown",
   "id": "1d9e863d",
   "metadata": {},
   "source": [
    "# MULTIPLE INTEGRATION"
   ]
  },
  {
   "cell_type": "code",
   "execution_count": 9,
   "id": "8fd56f55",
   "metadata": {},
   "outputs": [],
   "source": [
    "import scipy.integrate as integrate "
   ]
  },
  {
   "cell_type": "code",
   "execution_count": 43,
   "id": "f525b4e5",
   "metadata": {},
   "outputs": [
    {
     "data": {
      "text/plain": [
       "(3.0, 4.436070580899685e-14)"
      ]
     },
     "execution_count": 43,
     "metadata": {},
     "output_type": "execute_result"
    }
   ],
   "source": [
    "def f(x,y):\n",
    "    return x+y #Define integration function x+y\n",
    "integrate.dblquad(f,0,1,lambda x:0,lambda x:2)\n",
    "# Compute the double integral of ``x +y`` over the box\n",
    "# ``x`` ranging from 0 to 1 and ``y`` ranging from 0 to 2.\n",
    "# Perform multiple integration using lambda built in function from limits 0 to 1. Lambda is used to define the range of integration.\n",
    "# It evaluates the first condition and the 2nd condition. Here since the 2nd condition is lambda x : 2 \n",
    "# it will perform theintegration on the first integration"
   ]
  },
  {
   "cell_type": "markdown",
   "id": "66aa877b",
   "metadata": {},
   "source": [
    "# OPTIMIZATION"
   ]
  },
  {
   "cell_type": "code",
   "execution_count": 11,
   "id": "459b1ef7",
   "metadata": {},
   "outputs": [],
   "source": [
    "# It is the process of improving the performance of a system mathematically by fine tuning the process parameters"
   ]
  },
  {
   "cell_type": "code",
   "execution_count": 13,
   "id": "79a4669d",
   "metadata": {},
   "outputs": [],
   "source": [
    "# Optimization algorithms include: bfgs, Nelder-Mead Simplex, Newton Conjugate gradient, COBYLA, SLSQP\n",
    "# It also provides APIs for curve fitting and root finding"
   ]
  },
  {
   "cell_type": "code",
   "execution_count": 14,
   "id": "10c862af",
   "metadata": {},
   "outputs": [],
   "source": [
    "import numpy as np\n",
    "from scipy import optimize"
   ]
  },
  {
   "cell_type": "code",
   "execution_count": 30,
   "id": "f403cf2d",
   "metadata": {},
   "outputs": [],
   "source": [
    "def f(x):\n",
    "    return x**2 + 5*np.sin(x)\n",
    "# Define function which is x squared +sinx"
   ]
  },
  {
   "cell_type": "code",
   "execution_count": 33,
   "id": "2c94d4e8",
   "metadata": {},
   "outputs": [
    {
     "name": "stdout",
     "output_type": "stream",
     "text": [
      "Optimization terminated successfully.\n",
      "         Current function value: -3.246394\n",
      "         Iterations: 5\n",
      "         Function evaluations: 27\n",
      "         Gradient evaluations: 9\n"
     ]
    }
   ],
   "source": [
    "minimavalue = optimize.minimize(f,x0=2, method='bfgs', options={'disp':True})\n",
    "# Perform optimize minimize function using bfgs method and options"
   ]
  },
  {
   "cell_type": "code",
   "execution_count": 34,
   "id": "5d72106e",
   "metadata": {},
   "outputs": [
    {
     "data": {
      "text/plain": [
       "      fun: -3.2463942726915196\n",
       " hess_inv: array([[0.15445831]])\n",
       "      jac: array([-4.47034836e-07])\n",
       "  message: 'Optimization terminated successfully.'\n",
       "     nfev: 27\n",
       "      nit: 5\n",
       "     njev: 9\n",
       "   status: 0\n",
       "  success: True\n",
       "        x: array([-1.11051058])"
      ]
     },
     "execution_count": 34,
     "metadata": {},
     "output_type": "execute_result"
    }
   ],
   "source": [
    "minimavaluewithoutoptimization = optimize.minimize(f,x0=2, method='bfgs')\n",
    "# Perform optimize minimize function using bfgs method without options\n",
    "minimavaluewithoutoptimization"
   ]
  },
  {
   "cell_type": "code",
   "execution_count": 35,
   "id": "c4b0a9da",
   "metadata": {},
   "outputs": [],
   "source": [
    "from scipy.optimize import root\n",
    "def rootfunc(x):\n",
    "    return x+3.5*np.cos(x)"
   ]
  },
  {
   "cell_type": "code",
   "execution_count": 36,
   "id": "538bcdd8",
   "metadata": {},
   "outputs": [
    {
     "data": {
      "text/plain": [
       "    fjac: array([[-1.]])\n",
       "     fun: array([2.22044605e-16])\n",
       " message: 'The solution converged.'\n",
       "    nfev: 14\n",
       "     qtf: array([-8.32889313e-13])\n",
       "       r: array([-4.28198145])\n",
       "  status: 1\n",
       " success: True\n",
       "       x: array([-1.21597614])"
      ]
     },
     "execution_count": 36,
     "metadata": {},
     "output_type": "execute_result"
    }
   ],
   "source": [
    "rootvalue=root(rootfunc,0.3)\n",
    "rootvalue"
   ]
  },
  {
   "cell_type": "markdown",
   "id": "446ac73a",
   "metadata": {},
   "source": [
    "# LINEAR ALGEBRA"
   ]
  },
  {
   "cell_type": "code",
   "execution_count": 44,
   "id": "b701445a",
   "metadata": {},
   "outputs": [],
   "source": [
    "# INVERSE OF MATRIX"
   ]
  },
  {
   "cell_type": "code",
   "execution_count": 45,
   "id": "d1945dd9",
   "metadata": {},
   "outputs": [
    {
     "data": {
      "text/plain": [
       "array([[10,  6],\n",
       "       [ 2,  7]])"
      ]
     },
     "execution_count": 45,
     "metadata": {},
     "output_type": "execute_result"
    }
   ],
   "source": [
    "from scipy import linalg\n",
    "matrix=np.array([[10,6],[2,7]])\n",
    "matrix"
   ]
  },
  {
   "cell_type": "code",
   "execution_count": 47,
   "id": "aeca5c9a",
   "metadata": {},
   "outputs": [
    {
     "data": {
      "text/plain": [
       "numpy.ndarray"
      ]
     },
     "execution_count": 47,
     "metadata": {},
     "output_type": "execute_result"
    }
   ],
   "source": [
    "type(matrix)"
   ]
  },
  {
   "cell_type": "code",
   "execution_count": 48,
   "id": "ab8b9220",
   "metadata": {},
   "outputs": [
    {
     "data": {
      "text/plain": [
       "array([[ 0.12068966, -0.10344828],\n",
       "       [-0.03448276,  0.17241379]])"
      ]
     },
     "execution_count": 48,
     "metadata": {},
     "output_type": "execute_result"
    }
   ],
   "source": [
    "linalg.inv(matrix)"
   ]
  },
  {
   "cell_type": "code",
   "execution_count": 49,
   "id": "10c1cb3b",
   "metadata": {},
   "outputs": [],
   "source": [
    "# Find determinant of amatrix"
   ]
  },
  {
   "cell_type": "code",
   "execution_count": 50,
   "id": "9f4fed55",
   "metadata": {},
   "outputs": [
    {
     "data": {
      "text/plain": [
       "58.0"
      ]
     },
     "execution_count": 50,
     "metadata": {},
     "output_type": "execute_result"
    }
   ],
   "source": [
    "linalg.det(matrix)"
   ]
  },
  {
   "cell_type": "code",
   "execution_count": 51,
   "id": "2f4d6fce",
   "metadata": {},
   "outputs": [],
   "source": [
    "# Solve linear equations"
   ]
  },
  {
   "cell_type": "code",
   "execution_count": 52,
   "id": "1f8190a5",
   "metadata": {},
   "outputs": [],
   "source": [
    "# Solve thefollowing equations:\n",
    "#     2x+3y+z=21\n",
    "#     -x+5y+4z=9\n",
    "#     3x+2y+9z=6"
   ]
  },
  {
   "cell_type": "code",
   "execution_count": 56,
   "id": "4a80ace8",
   "metadata": {},
   "outputs": [],
   "source": [
    "numarray=np.array([[2,3,1],[-1,5,4],[3,2,9]])"
   ]
  },
  {
   "cell_type": "code",
   "execution_count": 57,
   "id": "502366b2",
   "metadata": {},
   "outputs": [],
   "source": [
    "numarrvalue=np.array([21,9,6])"
   ]
  },
  {
   "cell_type": "code",
   "execution_count": 58,
   "id": "beaefaca",
   "metadata": {},
   "outputs": [
    {
     "data": {
      "text/plain": [
       "array([ 4.95,  4.35, -1.95])"
      ]
     },
     "execution_count": 58,
     "metadata": {},
     "output_type": "execute_result"
    }
   ],
   "source": [
    "linalg.solve(numarray,numarrvalue)"
   ]
  },
  {
   "cell_type": "code",
   "execution_count": 67,
   "id": "c53ce53d",
   "metadata": {},
   "outputs": [
    {
     "data": {
      "text/plain": [
       "array([[10,  6],\n",
       "       [ 2,  7]])"
      ]
     },
     "execution_count": 67,
     "metadata": {},
     "output_type": "execute_result"
    }
   ],
   "source": [
    "# Single value decomposition(svd)\n",
    "# It returns a unitary matrix, a sigma or square root of eigen values and finally a VH which is values collected into a unitary\n",
    "matrix"
   ]
  },
  {
   "cell_type": "code",
   "execution_count": 68,
   "id": "f4a7d4e8",
   "metadata": {},
   "outputs": [],
   "source": [
    "numsvdarr=np.array([[3,5,1],[9,5,7]])"
   ]
  },
  {
   "cell_type": "code",
   "execution_count": 69,
   "id": "d32afbb9",
   "metadata": {},
   "outputs": [
    {
     "data": {
      "text/plain": [
       "(2, 3)"
      ]
     },
     "execution_count": 69,
     "metadata": {},
     "output_type": "execute_result"
    }
   ],
   "source": [
    "numsvdarr.shape"
   ]
  },
  {
   "cell_type": "code",
   "execution_count": 70,
   "id": "beab27fe",
   "metadata": {},
   "outputs": [
    {
     "data": {
      "text/plain": [
       "(array([[-0.37879831, -0.92547925],\n",
       "        [-0.92547925,  0.37879831]]),\n",
       " array([13.38464336,  3.29413449]),\n",
       " array([[-0.7072066 , -0.4872291 , -0.51231496],\n",
       "        [ 0.19208294, -0.82977932,  0.52399467],\n",
       "        [-0.68041382,  0.27216553,  0.68041382]]))"
      ]
     },
     "execution_count": 70,
     "metadata": {},
     "output_type": "execute_result"
    }
   ],
   "source": [
    "linalg.svd(numsvdarr)"
   ]
  },
  {
   "cell_type": "markdown",
   "id": "2d364eed",
   "metadata": {},
   "source": [
    "# EIGEN VALUES AND EIGEN VECTORS"
   ]
  },
  {
   "cell_type": "code",
   "execution_count": 71,
   "id": "54ff1e84",
   "metadata": {},
   "outputs": [],
   "source": [
    "testarr=np.array([[5,8],[7,9]])\n",
    "eigenvalues,eigenvectors=linalg.eig(testarr)"
   ]
  },
  {
   "cell_type": "code",
   "execution_count": 72,
   "id": "68ac3bc9",
   "metadata": {},
   "outputs": [
    {
     "data": {
      "text/plain": [
       "array([-0.74596669+0.j, 14.74596669+0.j])"
      ]
     },
     "execution_count": 72,
     "metadata": {},
     "output_type": "execute_result"
    }
   ],
   "source": [
    "eigenvalues"
   ]
  },
  {
   "cell_type": "code",
   "execution_count": 73,
   "id": "3a6e4b09",
   "metadata": {},
   "outputs": [
    {
     "data": {
      "text/plain": [
       "array([[-0.81220939, -0.63447346],\n",
       "       [ 0.58336601, -0.77294465]])"
      ]
     },
     "execution_count": 73,
     "metadata": {},
     "output_type": "execute_result"
    }
   ],
   "source": [
    "eigenvectors"
   ]
  },
  {
   "cell_type": "code",
   "execution_count": 74,
   "id": "6135c92c",
   "metadata": {},
   "outputs": [
    {
     "data": {
      "text/plain": [
       "array([-0.81220939,  0.58336601])"
      ]
     },
     "execution_count": 74,
     "metadata": {},
     "output_type": "execute_result"
    }
   ],
   "source": [
    "eigenvectors[:,0]"
   ]
  },
  {
   "cell_type": "code",
   "execution_count": 75,
   "id": "c6f7a12f",
   "metadata": {},
   "outputs": [
    {
     "data": {
      "text/plain": [
       "array([-0.63447346, -0.77294465])"
      ]
     },
     "execution_count": 75,
     "metadata": {},
     "output_type": "execute_result"
    }
   ],
   "source": [
    "eigenvectors[:,1]"
   ]
  },
  {
   "cell_type": "code",
   "execution_count": 76,
   "id": "575ad16f",
   "metadata": {},
   "outputs": [],
   "source": [
    "firstval,secondval=eigenvalues"
   ]
  },
  {
   "cell_type": "code",
   "execution_count": 77,
   "id": "6528cec9",
   "metadata": {},
   "outputs": [
    {
     "data": {
      "text/plain": [
       "(-0.745966692414834+0j)"
      ]
     },
     "execution_count": 77,
     "metadata": {},
     "output_type": "execute_result"
    }
   ],
   "source": [
    "firstval"
   ]
  },
  {
   "cell_type": "code",
   "execution_count": 78,
   "id": "c85f0360",
   "metadata": {},
   "outputs": [
    {
     "data": {
      "text/plain": [
       "(14.745966692414834+0j)"
      ]
     },
     "execution_count": 78,
     "metadata": {},
     "output_type": "execute_result"
    }
   ],
   "source": [
    "secondval"
   ]
  },
  {
   "cell_type": "markdown",
   "id": "3037206b",
   "metadata": {},
   "source": [
    "# STATISTICS"
   ]
  },
  {
   "cell_type": "code",
   "execution_count": 1,
   "id": "29196fe2",
   "metadata": {},
   "outputs": [],
   "source": [
    "# used in random variables for probability such as pdf and cdf\n",
    "# Statistical functions such as linear regression (linregress())\n",
    "# normailtest() is used in validating and test a built hypothesis during data processing\n",
    "# pdf is the derivative of cdf\n",
    "# pdf describes the probability of a continous random variable its value lies within the same interval\n",
    "\n"
   ]
  },
  {
   "cell_type": "code",
   "execution_count": 2,
   "id": "5e3ba843",
   "metadata": {},
   "outputs": [],
   "source": [
    "from scipy.stats import norm\n",
    "# norm is used for normal distribution \n",
    "# loc and scale are used to adjust the location and scale of data distribution\n",
    "# scale is for standard deviation\n",
    "# loc is mean"
   ]
  },
  {
   "cell_type": "code",
   "execution_count": 6,
   "id": "66b1c50b",
   "metadata": {},
   "outputs": [
    {
     "data": {
      "text/plain": [
       "array([ 0.40428462,  1.01653358,  0.01959009,  0.47902334, -0.57143473,\n",
       "       -0.78429443, -0.15701385, -0.33877551,  1.54925129, -0.98211422])"
      ]
     },
     "execution_count": 6,
     "metadata": {},
     "output_type": "execute_result"
    }
   ],
   "source": [
    "norm.rvs(loc=0,scale=1,size=10)\n",
    "# rvs stands for random variables. Here we are generating 10 random variables\n"
   ]
  },
  {
   "cell_type": "code",
   "execution_count": 26,
   "id": "9f0c7497",
   "metadata": {},
   "outputs": [
    {
     "data": {
      "text/plain": [
       "0.9772498680518208"
      ]
     },
     "execution_count": 26,
     "metadata": {},
     "output_type": "execute_result"
    }
   ],
   "source": [
    "norm.cdf(5,loc=1,scale=2)\n",
    "# Perform cumulative distribution fuction for random variable 5, loc 1, scale 2\n",
    "# This helps describe the probability  that for any 10 continuous random variables \n",
    "# the values of the variables are less than or equal to the argument of the function\n",
    "# Size is 5"
   ]
  },
  {
   "cell_type": "code",
   "execution_count": 5,
   "id": "76dcc709",
   "metadata": {},
   "outputs": [
    {
     "data": {
      "text/plain": [
       "1.0279773571668917e-18"
      ]
     },
     "execution_count": 5,
     "metadata": {},
     "output_type": "execute_result"
    }
   ],
   "source": [
    "norm.pdf(9,loc=0,scale=1)"
   ]
  },
  {
   "cell_type": "markdown",
   "id": "9ac1092b",
   "metadata": {},
   "source": [
    "# WEAVE"
   ]
  },
  {
   "cell_type": "code",
   "execution_count": 9,
   "id": "8bec3504",
   "metadata": {},
   "outputs": [],
   "source": [
    "# It is a package which is capable of supporting C/C++ code within Python code\n",
    "# It has built in C/ C++ code hence speeds of up to 1.5 to 30x compared to algorithms written in pure python"
   ]
  },
  {
   "cell_type": "code",
   "execution_count": 10,
   "id": "2573f41e",
   "metadata": {},
   "outputs": [],
   "source": [
    "# Functions in weave\n",
    "# inline() which enables compiling and execution of C/C++ code\n",
    "# blitz() compiles NumPy Python expressions for fast execution"
   ]
  },
  {
   "cell_type": "markdown",
   "id": "d91a6e8d",
   "metadata": {},
   "source": [
    "# IO"
   ]
  },
  {
   "cell_type": "code",
   "execution_count": 12,
   "id": "b85d299c",
   "metadata": {},
   "outputs": [],
   "source": [
    "# Provides a set of functions to deal with different file formats including: MatLab, IDL, Matrix Market,\n",
    "# Wav sound, Arff,Netcdf files\n",
    "# It also provides additional files their corresponding methods such as:\n",
    "# NumPy.loadtxt()/NumPy.savetxt()\n",
    "# NumPy.genfromtxt()/NumPy.recfromcsv()\n",
    "# NumPy.save()/NumPy.load()"
   ]
  },
  {
   "cell_type": "markdown",
   "id": "fe79d6e6",
   "metadata": {},
   "source": [
    "# Assignment"
   ]
  },
  {
   "cell_type": "code",
   "execution_count": null,
   "id": "6468d73a",
   "metadata": {},
   "outputs": [],
   "source": [
    "# "
   ]
  },
  {
   "cell_type": "code",
   "execution_count": 16,
   "id": "4c2f6135",
   "metadata": {},
   "outputs": [],
   "source": [
    "from scipy import linalg\n",
    "import numpy as np"
   ]
  },
  {
   "cell_type": "code",
   "execution_count": 21,
   "id": "e96e514c",
   "metadata": {},
   "outputs": [],
   "source": [
    "variables=np.array([[1,1],[4,9]])"
   ]
  },
  {
   "cell_type": "code",
   "execution_count": 22,
   "id": "4f938f25",
   "metadata": {},
   "outputs": [],
   "source": [
    "results=np.array([30,150])"
   ]
  },
  {
   "cell_type": "code",
   "execution_count": 23,
   "id": "5be31cf1",
   "metadata": {},
   "outputs": [
    {
     "data": {
      "text/plain": [
       "array([24.,  6.])"
      ]
     },
     "execution_count": 23,
     "metadata": {},
     "output_type": "execute_result"
    }
   ],
   "source": [
    "linalg.solve(variables,results)"
   ]
  },
  {
   "cell_type": "code",
   "execution_count": null,
   "id": "b5a89c61",
   "metadata": {},
   "outputs": [],
   "source": []
  }
 ],
 "metadata": {
  "kernelspec": {
   "display_name": "Python 3",
   "language": "python",
   "name": "python3"
  },
  "language_info": {
   "codemirror_mode": {
    "name": "ipython",
    "version": 3
   },
   "file_extension": ".py",
   "mimetype": "text/x-python",
   "name": "python",
   "nbconvert_exporter": "python",
   "pygments_lexer": "ipython3",
   "version": "3.8.8"
  }
 },
 "nbformat": 4,
 "nbformat_minor": 5
}
